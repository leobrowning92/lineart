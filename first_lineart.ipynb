{
 "cells": [
  {
   "cell_type": "markdown",
   "metadata": {},
   "source": [
    "# lineart test"
   ]
  },
  {
   "cell_type": "code",
   "execution_count": 1,
   "metadata": {},
   "outputs": [],
   "source": [
    "%load_ext autoreload\n",
    "%autoreload 2"
   ]
  },
  {
   "cell_type": "code",
   "execution_count": 2,
   "metadata": {},
   "outputs": [],
   "source": [
    "import numpy as np\n",
    "from flat import rgba, font, shape, strike, document\n",
    "from IPython.display import Image\n",
    "import dask\n",
    "\n",
    "from lineart.shapes import Octahedron\n",
    "from lineart.transforms import rotate, rotate_xy, sample_line, add_z_jitter"
   ]
  },
  {
   "cell_type": "markdown",
   "metadata": {},
   "source": [
    "## First experiment"
   ]
  },
  {
   "cell_type": "code",
   "execution_count": 3,
   "metadata": {},
   "outputs": [],
   "source": [
    "image_size = 100"
   ]
  },
  {
   "cell_type": "code",
   "execution_count": 4,
   "metadata": {},
   "outputs": [],
   "source": [
    "# colors\n",
    "canvas = rgba(254, 250, 219,255)\n",
    "sand = rgba(254, 250, 219,50)\n",
    "blue = rgba(33, 80, 98,255)\n",
    "red = rgba(255, 0, 0,255)\n",
    "# styles\n",
    "background = shape().fill(blue).nostroke()\n",
    "netstyle = shape().stroke(canvas).width(1)\n",
    "sandstyle = shape().fill(sand).nostroke()\n",
    "debug = shape().stroke(red).width(0.5)"
   ]
  },
  {
   "cell_type": "code",
   "execution_count": 5,
   "metadata": {},
   "outputs": [
    {
     "data": {
      "image/png": "[encoded data removed]",
      "text/plain": [
       "<IPython.core.display.Image object>"
      ]
     },
     "execution_count": 5,
     "metadata": {},
     "output_type": "execute_result"
    }
   ],
   "source": [
    "# page setup\n",
    "d = document(image_size, image_size, 'mm')\n",
    "page = d.addpage()\n",
    "page.place(background.rectangle(0,0,image_size,image_size))\n",
    "\n",
    "nodes = np.random.rand(20,2)*image_size\n",
    "\n",
    "for p in nodes:\n",
    "    page.place(netstyle.circle(*p, 1))\n",
    "for i in range(30):\n",
    "    page.place(netstyle.line(*nodes[0],*nodes[np.random.randint(len(nodes))]))\n",
    "    \n",
    "# Display image\n",
    "Image((page.image(kind='rgba', ppi=60).png())) "
   ]
  },
  {
   "cell_type": "markdown",
   "metadata": {},
   "source": [
    "## single line dither test\n",
    "\n",
    "3D rotation about some normalised vector u\n",
    "\n",
    "\\begin{bmatrix}\\cos \\theta +u_{x}^{2}\\left(1-\\cos \\theta \\right)&u_{x}u_{y}\\left(1-\\cos \\theta \\right)-u_{z}\\sin \\theta &u_{x}u_{z}\\left(1-\\cos \\theta \\right)+u_{y}\\sin \\theta \\\\u_{y}u_{x}\\left(1-\\cos \\theta \\right)+u_{z}\\sin \\theta &\\cos \\theta +u_{y}^{2}\\left(1-\\cos \\theta \\right)&u_{y}u_{z}\\left(1-\\cos \\theta \\right)-u_{x}\\sin \\theta \\\\u_{z}u_{x}\\left(1-\\cos \\theta \\right)-u_{y}\\sin \\theta &u_{z}u_{y}\\left(1-\\cos \\theta \\right)+u_{x}\\sin \\theta &\\cos \\theta +u_{z}^{2}\\left(1-\\cos \\theta \\right)\\end{bmatrix}"
   ]
  },
  {
   "cell_type": "code",
   "execution_count": 6,
   "metadata": {},
   "outputs": [
    {
     "data": {
      "image/png": "[encoded data removed]",
      "text/plain": [
       "<IPython.core.display.Image object>"
      ]
     },
     "execution_count": 6,
     "metadata": {},
     "output_type": "execute_result"
    }
   ],
   "source": [
    "image_size = 100\n",
    "# page setup\n",
    "d = document(image_size, image_size, 'mm')\n",
    "page = d.addpage()\n",
    "page.place(background.rectangle(0,0,image_size,image_size))\n",
    "\n",
    "\n",
    "nodes = np.array([\n",
    "    [10, 50,0], \n",
    "    [90, 50,100]\n",
    "])\n",
    "\n",
    "rotation_point = np.array([50,50,0])\n",
    "for i in range (7):\n",
    "    theta = np.pi/8\n",
    "    \n",
    "    # page.place(netstyle.circle(*dither_line.p1[:2], 1))\n",
    "    # page.place(netstyle.circle(*dither_line.p2[:2], 1))\n",
    "    # page.place(debug.line(*dither_line.p1,*dither_line.p2))\n",
    "    samples = add_z_jitter(sample_line(*nodes, 1000) ,0.004)\n",
    "\n",
    "    for p in samples:\n",
    "        page.place(sandstyle.circle(*p[:2], 0.1))\n",
    "    nodes = rotate_xy(nodes, rotation_point, theta)\n",
    "# Display image\n",
    "Image((page.image(kind='rgba', ppi=60).png())) "
   ]
  },
  {
   "cell_type": "markdown",
   "metadata": {},
   "source": [
    "### Polygon test"
   ]
  },
  {
   "cell_type": "markdown",
   "metadata": {},
   "source": [
    "#### Examination of rendering time for sampled polyhedra"
   ]
  },
  {
   "cell_type": "code",
   "execution_count": 7,
   "metadata": {},
   "outputs": [
    {
     "name": "stdout",
     "output_type": "stream",
     "text": [
      "CPU times: user 1.22 ms, sys: 79 µs, total: 1.3 ms\n",
      "Wall time: 1.28 ms\n"
     ]
    }
   ],
   "source": [
    "%%time\n",
    "image_size = 100\n",
    "# page setup\n",
    "d = document(image_size, image_size, 'mm')\n",
    "page = d.addpage()\n",
    "page.place(background.rectangle(0,0,image_size,image_size))\n",
    "o = Octahedron(np.array([50,50,40]),40)\n",
    "\n",
    "o.rotate([50,50,40], [1,1,1], np.pi*2/16)\n",
    "\n",
    "\n",
    "\n"
   ]
  },
  {
   "cell_type": "code",
   "execution_count": 8,
   "metadata": {},
   "outputs": [
    {
     "name": "stdout",
     "output_type": "stream",
     "text": [
      "CPU times: user 90.5 ms, sys: 1.07 ms, total: 91.5 ms\n",
      "Wall time: 90.8 ms\n"
     ]
    }
   ],
   "source": [
    "%%time\n",
    "im = page.image(kind='rgba', ppi=60)\n",
    "for p in samples.astype(int):\n",
    "    im.put(p[0],p[1],(sand.r,sand.g,sand.b,sand.a))"
   ]
  },
  {
   "cell_type": "code",
   "execution_count": 9,
   "metadata": {},
   "outputs": [
    {
     "name": "stdout",
     "output_type": "stream",
     "text": [
      "CPU times: user 1.33 ms, sys: 531 µs, total: 1.86 ms\n",
      "Wall time: 1.29 ms\n"
     ]
    },
    {
     "data": {
      "image/png": "[encoded data removed]",
      "text/plain": [
       "<IPython.core.display.Image object>"
      ]
     },
     "execution_count": 9,
     "metadata": {},
     "output_type": "execute_result"
    }
   ],
   "source": [
    "%%time\n",
    "Image((im.png())) "
   ]
  },
  {
   "cell_type": "code",
   "execution_count": 10,
   "metadata": {},
   "outputs": [
    {
     "name": "stdout",
     "output_type": "stream",
     "text": [
      "CPU times: user 2.45 ms, sys: 796 µs, total: 3.25 ms\n",
      "Wall time: 2.56 ms\n"
     ]
    }
   ],
   "source": [
    "%%time\n",
    "# linear with number of samples\n",
    "samples = o.sample(1000,0.01)"
   ]
  },
  {
   "cell_type": "code",
   "execution_count": 11,
   "metadata": {},
   "outputs": [
    {
     "data": {
      "text/plain": [
       "array([[24.62449501, 65.76237523, 30.68195473],\n",
       "       [27.30453305, 67.4518656 , 30.79571131],\n",
       "       [18.56570241, 61.94292506, 30.42478392],\n",
       "       ...,\n",
       "       [18.08024036, 58.23013801, 39.74505122],\n",
       "       [25.41567301, 58.72404657, 51.3812457 ],\n",
       "       [32.29638863, 59.18733817, 62.29612272]])"
      ]
     },
     "execution_count": 11,
     "metadata": {},
     "output_type": "execute_result"
    }
   ],
   "source": [
    "samples"
   ]
  },
  {
   "cell_type": "code",
   "execution_count": 12,
   "metadata": {},
   "outputs": [
    {
     "name": "stdout",
     "output_type": "stream",
     "text": [
      "CPU times: user 35 ms, sys: 1.09 ms, total: 36.1 ms\n",
      "Wall time: 35.8 ms\n"
     ]
    }
   ],
   "source": [
    "%%time\n",
    "# slightly more than linear with number of samples\n",
    "for p in samples:\n",
    "    page.place(sandstyle.circle(*p[:2], 0.1)) \n",
    "# Display image"
   ]
  },
  {
   "cell_type": "code",
   "execution_count": null,
   "metadata": {},
   "outputs": [],
   "source": []
  },
  {
   "cell_type": "code",
   "execution_count": 13,
   "metadata": {},
   "outputs": [
    {
     "name": "stdout",
     "output_type": "stream",
     "text": [
      "CPU times: user 1.15 s, sys: 1.79 ms, total: 1.15 s\n",
      "Wall time: 1.15 s\n"
     ]
    },
    {
     "data": {
      "image/png": "[encoded data removed]",
      "text/plain": [
       "<IPython.core.display.Image object>"
      ]
     },
     "execution_count": 13,
     "metadata": {},
     "output_type": "execute_result"
    }
   ],
   "source": [
    "%%time\n",
    "# linear with number of samples\n",
    "Image((page.image(kind='rgba', ppi=60).png())) "
   ]
  },
  {
   "cell_type": "markdown",
   "metadata": {},
   "source": [
    "#### Dask delayed multiprocessing rendering of rotating image"
   ]
  },
  {
   "cell_type": "code",
   "execution_count": 16,
   "metadata": {},
   "outputs": [],
   "source": [
    "@dask.delayed\n",
    "def sample_octohedron(i):\n",
    "    image_size = 100\n",
    "    # page setup\n",
    "    d = document(image_size, image_size, 'mm')\n",
    "    page = d.addpage()\n",
    "    page.place(background.rectangle(0,0,image_size,image_size))\n",
    "    o = Octahedron(np.array([50,50,40]),40)\n",
    "\n",
    "    o.rotate([50,50,40], [1,1,1], np.pi*2/200*i)\n",
    "    samples = o.sample(1000,0.03)\n",
    "\n",
    "    for p in samples:\n",
    "        page.place(sandstyle.circle(*p[:2], 0.1)) \n",
    "    # Display image\n",
    "    page.image(kind='rgba', ppi=60).png(f'outputs/{i:03d}.png')\n",
    "    return i\n",
    "\n",
    "samples = [sample_octohedron(i) for i in range(20)]\n"
   ]
  },
  {
   "cell_type": "code",
   "execution_count": 17,
   "metadata": {},
   "outputs": [
    {
     "name": "stdout",
     "output_type": "stream",
     "text": [
      "CPU times: user 46.8 ms, sys: 46.7 ms, total: 93.5 ms\n",
      "Wall time: 4.75 s\n"
     ]
    },
    {
     "data": {
      "text/plain": [
       "(Delayed('sample_octohedron-3b8c91d1-4c87-4508-8163-125a61d7db13'),\n",
       " Delayed('sample_octohedron-ec02af17-a91c-4c73-9bcf-39217b8c90d1'),\n",
       " Delayed('sample_octohedron-80322099-b5e2-4451-b0cd-61f7c20d6afb'),\n",
       " Delayed('sample_octohedron-5d48db4d-6eea-4f76-9b13-034b737e9d0c'),\n",
       " Delayed('sample_octohedron-73c15a7d-1b00-4d01-a051-a924c43d2475'),\n",
       " Delayed('sample_octohedron-940b00a5-af1c-45a9-a20d-218b0734ad7c'),\n",
       " Delayed('sample_octohedron-57449064-547b-4641-9a1c-2db24909fdcd'),\n",
       " Delayed('sample_octohedron-93acb662-9c2e-43b6-b984-7a10e52c2cc7'),\n",
       " Delayed('sample_octohedron-dafd38a0-6b8a-43dc-a5f6-f03cc0caaa09'),\n",
       " Delayed('sample_octohedron-1e35f83a-72a4-48b9-86b6-eea1fdedd4b0'),\n",
       " Delayed('sample_octohedron-e46d5ec8-48ac-446d-8ba0-d72abc7ac134'),\n",
       " Delayed('sample_octohedron-fc0f6837-9ba5-4eac-b058-b68080cc6369'),\n",
       " Delayed('sample_octohedron-51805692-c1cd-47f4-9b17-4f0d47e21e2e'),\n",
       " Delayed('sample_octohedron-85dea84a-b0dc-4b96-aa35-3181adade067'),\n",
       " Delayed('sample_octohedron-89fe25c4-938f-4f6c-b72b-5c32f6495c0c'),\n",
       " Delayed('sample_octohedron-4c58a2ba-8fd3-43c6-9901-1abbc8dad93d'),\n",
       " Delayed('sample_octohedron-08f380cb-696c-4fc6-a4be-21930e7410ac'),\n",
       " Delayed('sample_octohedron-c0dcd168-54f9-439b-9b98-7fc8a0deeafb'),\n",
       " Delayed('sample_octohedron-2902b562-0ca7-4b07-90cb-9d2bd99f7759'),\n",
       " Delayed('sample_octohedron-e5d0b30a-fe23-4c88-8203-08cbb9cdc0ec'))"
      ]
     },
     "execution_count": 17,
     "metadata": {},
     "output_type": "execute_result"
    }
   ],
   "source": [
    "%%time\n",
    "dask.persist(*samples, scheduler='processes')"
   ]
  },
  {
   "cell_type": "markdown",
   "metadata": {},
   "source": [
    "### Random network"
   ]
  },
  {
   "cell_type": "code",
   "execution_count": null,
   "metadata": {},
   "outputs": [],
   "source": []
  }
 ],
 "metadata": {
  "kernelspec": {
   "display_name": "Python 3",
   "language": "python",
   "name": "python3"
  },
  "language_info": {
   "codemirror_mode": {
    "name": "ipython",
    "version": 3
   },
   "file_extension": ".py",
   "mimetype": "text/x-python",
   "name": "python",
   "nbconvert_exporter": "python",
   "pygments_lexer": "ipython3",
   "version": "3.8.5"
  }
 },
 "nbformat": 4,
 "nbformat_minor": 4
}
