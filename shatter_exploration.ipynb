{
 "cells": [
  {
   "cell_type": "markdown",
   "metadata": {},
   "source": [
    "## Rotating edge experiment"
   ]
  },
  {
   "cell_type": "code",
   "execution_count": 86,
   "metadata": {},
   "outputs": [],
   "source": [
    "from lineart.transforms import rotate, rotate_xy, sample_line\n",
    "import numpy as np\n",
    "from IPython.display import Image\n",
    "from flat import rgba, font, shape, strike, document\n",
    "import lineart.style as style"
   ]
  },
  {
   "cell_type": "code",
   "execution_count": 118,
   "metadata": {},
   "outputs": [],
   "source": [
    "e = np.array([\n",
    "    [0,0,0],\n",
    "    [1,1,0]\n",
    "])\n",
    "p = np.array([0,1,0])\n",
    "o = np.array([0,0,0])\n",
    "edges = np.array([e,e,e])\n",
    "points = np.array([p,p])"
   ]
  },
  {
   "cell_type": "code",
   "execution_count": 119,
   "metadata": {},
   "outputs": [
    {
     "data": {
      "text/plain": [
       "array([[[ 0.,  0.,  0.],\n",
       "        [ 1., -1.,  0.]],\n",
       "\n",
       "       [[ 0.,  0.,  0.],\n",
       "        [ 1., -1.,  0.]],\n",
       "\n",
       "       [[ 0.,  0.,  0.],\n",
       "        [ 1., -1.,  0.]]])"
      ]
     },
     "execution_count": 119,
     "metadata": {},
     "output_type": "execute_result"
    }
   ],
   "source": [
    "rotate_xy(edges, 0, np.pi/2)"
   ]
  },
  {
   "cell_type": "code",
   "execution_count": 120,
   "metadata": {},
   "outputs": [
    {
     "data": {
      "text/plain": [
       "(3, 2, 3)"
      ]
     },
     "execution_count": 120,
     "metadata": {},
     "output_type": "execute_result"
    }
   ],
   "source": [
    "edges.shape\n"
   ]
  },
  {
   "cell_type": "markdown",
   "metadata": {},
   "source": [
    "## split edges"
   ]
  },
  {
   "cell_type": "code",
   "execution_count": 147,
   "metadata": {},
   "outputs": [],
   "source": [
    "def draw_edges(edges, image_size=100, v=False):\n",
    "    \n",
    "    edges = edges.reshape(-1,2,3)[:,:,:-1]\n",
    "    # page setup\n",
    "    d = document(image_size, image_size, 'mm')\n",
    "    page = d.addpage()\n",
    "    page.place(style.background.rectangle(0,0,image_size,image_size))\n",
    "    for e in edges:\n",
    "        print(e, e.flatten())\n",
    "        page.place(style.edge.line(*e.flatten()))\n",
    "    if v:\n",
    "        for p in edges.reshape(-1,2):\n",
    "            page.place(style.debug.circle(*p, 2))\n",
    "        \n",
    "    return (page.image(kind='rgba', ppi=60).png())"
   ]
  },
  {
   "cell_type": "code",
   "execution_count": 148,
   "metadata": {},
   "outputs": [
    {
     "name": "stdout",
     "output_type": "stream",
     "text": [
      "[[92.07795539 70.68318799]\n",
      " [45.35707949 68.72255982]] [92.07795539 70.68318799 45.35707949 68.72255982]\n",
      "[[35.31122211 90.76900224]\n",
      " [13.14398364 33.82085619]] [35.31122211 90.76900224 13.14398364 33.82085619]\n",
      "[[10.0064712  65.18431732]\n",
      " [49.92052781 22.94247   ]] [10.0064712  65.18431732 49.92052781 22.94247   ]\n",
      "[[15.61113883 66.81869483]\n",
      " [74.06737331 25.132036  ]] [15.61113883 66.81869483 74.06737331 25.132036  ]\n",
      "[[18.64449934 18.4397269 ]\n",
      " [59.63933414 90.07758356]] [18.64449934 18.4397269  59.63933414 90.07758356]\n",
      "[[16.47711558 85.01164775]\n",
      " [22.49406377 11.49465225]] [16.47711558 85.01164775 22.49406377 11.49465225]\n"
     ]
    },
    {
     "data": {
      "image/png": "[encoded data removed]",
      "text/plain": [
       "<IPython.core.display.Image object>"
      ]
     },
     "execution_count": 148,
     "metadata": {},
     "output_type": "execute_result"
    }
   ],
   "source": [
    "edges = np.random.rand(6,2,3)*100\n",
    "Image(draw_edges(edges, v=True))"
   ]
  },
  {
   "cell_type": "code",
   "execution_count": 127,
   "metadata": {},
   "outputs": [
    {
     "name": "stdout",
     "output_type": "stream",
     "text": [
      "[[  0   0]\n",
      " [100 100]] [  0   0 100 100]\n"
     ]
    },
    {
     "data": {
      "image/png": "[encoded data removed]",
      "text/plain": [
       "<IPython.core.display.Image object>"
      ]
     },
     "execution_count": 127,
     "metadata": {},
     "output_type": "execute_result"
    }
   ],
   "source": [
    "Image(draw_edges(e*100))"
   ]
  },
  {
   "cell_type": "code",
   "execution_count": 153,
   "metadata": {},
   "outputs": [],
   "source": [
    "def split(e, n):\n",
    "    fracs = np.random.rand(n, 1)\n",
    "    fracs.sort()\n",
    "    vector = e[1] - e[0]\n",
    "    splits = np.multiply(fracs[::-1], vector) + e[0]\n",
    "    points = np.concatenate((e[0].reshape(1,3),splits,e[1].reshape(1,3)))\n",
    "    starts = points[:-1]\n",
    "    ends = points[1:]\n",
    "    edges = np.concatenate((starts.reshape(-1,1,3),ends.reshape(-1,1,3)),axis=1)\n",
    "    return edges"
   ]
  },
  {
   "cell_type": "code",
   "execution_count": 154,
   "metadata": {},
   "outputs": [
    {
     "name": "stdout",
     "output_type": "stream",
     "text": [
      "[[ 0.          0.        ]\n",
      " [36.74156359 36.74156359]] [ 0.          0.         36.74156359 36.74156359]\n",
      "[[36.74156359 36.74156359]\n",
      " [42.57080244 42.57080244]] [36.74156359 36.74156359 42.57080244 42.57080244]\n",
      "[[ 42.57080244  42.57080244]\n",
      " [100.         100.        ]] [ 42.57080244  42.57080244 100.         100.        ]\n"
     ]
    },
    {
     "data": {
      "image/png": "[encoded data removed]",
      "text/plain": [
       "<IPython.core.display.Image object>"
      ]
     },
     "execution_count": 154,
     "metadata": {},
     "output_type": "execute_result"
    }
   ],
   "source": [
    "Image(draw_edges(split(e*100,2), v=True))"
   ]
  },
  {
   "cell_type": "code",
   "execution_count": 132,
   "metadata": {},
   "outputs": [],
   "source": [
    "fracs = np.random.rand(2, 1)\n",
    "fracs.sort()\n",
    "vector = e[1] - e[0]\n",
    "splits = np.multiply(fracs[::-1], vector) + e[0]\n",
    "points = np.concatenate((e[0].reshape(1,3),splits,e[1].reshape(1,3)))\n",
    "starts = points[:-1]\n",
    "ends = points[1:]\n",
    "edges = np.concatenate((starts.reshape(-1,1,3),ends.reshape(-1,1,3)),axis=1)"
   ]
  },
  {
   "cell_type": "code",
   "execution_count": 133,
   "metadata": {},
   "outputs": [
    {
     "data": {
      "text/plain": [
       "array([[[0.        , 0.        , 0.        ],\n",
       "        [0.57437223, 0.57437223, 0.        ]],\n",
       "\n",
       "       [[0.57437223, 0.57437223, 0.        ],\n",
       "        [0.29296656, 0.29296656, 0.        ]],\n",
       "\n",
       "       [[0.29296656, 0.29296656, 0.        ],\n",
       "        [1.        , 1.        , 0.        ]]])"
      ]
     },
     "execution_count": 133,
     "metadata": {},
     "output_type": "execute_result"
    }
   ],
   "source": [
    "edges"
   ]
  },
  {
   "cell_type": "code",
   "execution_count": 103,
   "metadata": {},
   "outputs": [
    {
     "data": {
      "text/plain": [
       "array([[0.        , 0.        , 0.        ],\n",
       "       [0.        , 0.77856468, 0.        ],\n",
       "       [0.        , 0.88366932, 0.        ]])"
      ]
     },
     "execution_count": 103,
     "metadata": {},
     "output_type": "execute_result"
    }
   ],
   "source": [
    "starts"
   ]
  },
  {
   "cell_type": "code",
   "execution_count": 94,
   "metadata": {},
   "outputs": [
    {
     "data": {
      "text/plain": [
       "(3,)"
      ]
     },
     "execution_count": 94,
     "metadata": {},
     "output_type": "execute_result"
    }
   ],
   "source": [
    "e[0].shape"
   ]
  },
  {
   "cell_type": "code",
   "execution_count": 104,
   "metadata": {},
   "outputs": [
    {
     "data": {
      "text/plain": [
       "(6, 2, 3)"
      ]
     },
     "execution_count": 104,
     "metadata": {},
     "output_type": "execute_result"
    }
   ],
   "source": [
    "edges.shape"
   ]
  },
  {
   "cell_type": "code",
   "execution_count": null,
   "metadata": {},
   "outputs": [],
   "source": []
  }
 ],
 "metadata": {
  "kernelspec": {
   "display_name": "Python 3",
   "language": "python",
   "name": "python3"
  },
  "language_info": {
   "codemirror_mode": {
    "name": "ipython",
    "version": 3
   },
   "file_extension": ".py",
   "mimetype": "text/x-python",
   "name": "python",
   "nbconvert_exporter": "python",
   "pygments_lexer": "ipython3",
   "version": "3.8.5"
  }
 },
 "nbformat": 4,
 "nbformat_minor": 4
}
