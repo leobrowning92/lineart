{
 "cells": [
  {
   "cell_type": "markdown",
   "metadata": {},
   "source": [
    "# Rotating edge experiment"
   ]
  },
  {
   "cell_type": "code",
   "execution_count": 1,
   "metadata": {},
   "outputs": [],
   "source": [
    "%load_ext autoreload\n",
    "%autoreload 2"
   ]
  },
  {
   "cell_type": "code",
   "execution_count": 44,
   "metadata": {},
   "outputs": [],
   "source": [
    "import itertools\n",
    "import numpy as np\n",
    "from IPython.display import Image\n",
    "from flat import rgba, font, shape, strike, document\n",
    "from lineart import style, transform, draw\n",
    "from lineart.primatives import EdgeCollection\n",
    "from lineart.shapes import Octahedron"
   ]
  },
  {
   "cell_type": "code",
   "execution_count": 54,
   "metadata": {},
   "outputs": [],
   "source": [
    "e = np.array([\n",
    "    [0,0,0],\n",
    "    [1,1,0]\n",
    "])\n",
    "p = np.array([0,1,0])\n",
    "o = np.array([0,0,0])\n",
    "edges = np.array([e,e,e])\n",
    "points = np.array([p,p])"
   ]
  },
  {
   "cell_type": "code",
   "execution_count": 55,
   "metadata": {},
   "outputs": [
    {
     "data": {
      "text/plain": [
       "array([[[0, 0, 0],\n",
       "        [1, 1, 0]],\n",
       "\n",
       "       [[0, 0, 0],\n",
       "        [1, 1, 0]],\n",
       "\n",
       "       [[0, 0, 0],\n",
       "        [1, 1, 0]]])"
      ]
     },
     "execution_count": 55,
     "metadata": {},
     "output_type": "execute_result"
    }
   ],
   "source": [
    "edges"
   ]
  },
  {
   "cell_type": "markdown",
   "metadata": {},
   "source": [
    "## split edges"
   ]
  },
  {
   "cell_type": "code",
   "execution_count": null,
   "metadata": {},
   "outputs": [],
   "source": []
  },
  {
   "cell_type": "code",
   "execution_count": 56,
   "metadata": {},
   "outputs": [
    {
     "data": {
      "image/png": "[encoded data removed]",
      "text/plain": [
       "<IPython.core.display.Image object>"
      ]
     },
     "execution_count": 56,
     "metadata": {},
     "output_type": "execute_result"
    }
   ],
   "source": [
    "edges = np.random.rand(6,2,3)*100\n",
    "Image(draw.quick_draw_edges(edges, v=True).png())"
   ]
  },
  {
   "cell_type": "code",
   "execution_count": 59,
   "metadata": {},
   "outputs": [],
   "source": [
    "def split(e, n):\n",
    "    fracs = np.random.rand(n, 1)\n",
    "    fracs.sort(axis=0)\n",
    "    vector = e[1] - e[0]\n",
    "    splits = np.multiply(fracs[::-1], vector) + e[0]\n",
    "    points = np.concatenate((e[1].reshape(1,3),splits,e[0].reshape(1,3)))\n",
    "    starts = points[:-1]\n",
    "    ends = points[1:]\n",
    "    edges = np.concatenate((starts.reshape(-1,1,3),ends.reshape(-1,1,3)),axis=1)\n",
    "    return edges"
   ]
  },
  {
   "cell_type": "code",
   "execution_count": 60,
   "metadata": {},
   "outputs": [
    {
     "data": {
      "text/plain": [
       "(11, 2, 3)"
      ]
     },
     "execution_count": 60,
     "metadata": {},
     "output_type": "execute_result"
    }
   ],
   "source": [
    "splits.shape"
   ]
  },
  {
   "cell_type": "code",
   "execution_count": 61,
   "metadata": {},
   "outputs": [
    {
     "data": {
      "image/png": "[encoded data removed]",
      "text/plain": [
       "<IPython.core.display.Image object>"
      ]
     },
     "execution_count": 61,
     "metadata": {},
     "output_type": "execute_result"
    }
   ],
   "source": [
    "splits = split(e*100,10)\n",
    "\n",
    "Image(draw.quick_draw_edges(splits, v=True).png())"
   ]
  },
  {
   "cell_type": "code",
   "execution_count": 62,
   "metadata": {},
   "outputs": [
    {
     "data": {
      "text/plain": [
       "(11, 2, 3)"
      ]
     },
     "execution_count": 62,
     "metadata": {},
     "output_type": "execute_result"
    }
   ],
   "source": [
    "splits.shape"
   ]
  },
  {
   "cell_type": "code",
   "execution_count": 63,
   "metadata": {},
   "outputs": [],
   "source": [
    "split_collection = EdgeCollection(splits, np.random.randn(*splits[:,0,:].shape), np.arange(splits.shape[0])/30)"
   ]
  },
  {
   "cell_type": "code",
   "execution_count": 64,
   "metadata": {},
   "outputs": [
    {
     "data": {
      "image/png": "[encoded data removed]",
      "text/plain": [
       "<IPython.core.display.Image object>"
      ]
     },
     "execution_count": 64,
     "metadata": {},
     "output_type": "execute_result"
    }
   ],
   "source": [
    "Image(draw.quick_draw_edges(split_collection.edges, v=True).png())"
   ]
  },
  {
   "cell_type": "code",
   "execution_count": 65,
   "metadata": {},
   "outputs": [],
   "source": [
    "c = np.repeat(split_collection.centers[:, np.newaxis, :], 2, axis=1)"
   ]
  },
  {
   "cell_type": "code",
   "execution_count": 66,
   "metadata": {},
   "outputs": [
    {
     "data": {
      "text/plain": [
       "11"
      ]
     },
     "execution_count": 66,
     "metadata": {},
     "output_type": "execute_result"
    }
   ],
   "source": [
    "split_collection.n "
   ]
  },
  {
   "cell_type": "code",
   "execution_count": 67,
   "metadata": {},
   "outputs": [
    {
     "name": "stdout",
     "output_type": "stream",
     "text": [
      "rot_mat.shape=(11, 3, 3)\n",
      "edge_centers.shape=(11, 2, 3)\n",
      "centers_shifted.shape=(11, 2, 3)\n",
      "rotated.shape=(11, 2, 3)\n",
      "back_shifted.shape=(11, 2, 3)\n"
     ]
    },
    {
     "data": {
      "image/png": "[encoded data removed]",
      "text/plain": [
       "<IPython.core.display.Image object>"
      ]
     },
     "execution_count": 67,
     "metadata": {},
     "output_type": "execute_result"
    }
   ],
   "source": [
    "split_collection.step(1)\n",
    "# split_collection.rotate_indiv(np.pi/50)\n",
    "Image(draw.quick_draw_edges(split_collection.edges, v=True).png())"
   ]
  },
  {
   "cell_type": "markdown",
   "metadata": {},
   "source": [
    "### Octahedron test"
   ]
  },
  {
   "cell_type": "code",
   "execution_count": 78,
   "metadata": {},
   "outputs": [],
   "source": [
    "ocatahedron = Octahedron(np.array([50, 50, 40]), 47)"
   ]
  },
  {
   "cell_type": "code",
   "execution_count": 79,
   "metadata": {},
   "outputs": [
    {
     "data": {
      "image/png": "[encoded data removed]",
      "text/plain": [
       "<IPython.core.display.Image object>"
      ]
     },
     "execution_count": 79,
     "metadata": {},
     "output_type": "execute_result"
    }
   ],
   "source": [
    "Image(draw.quick_draw_edges(ocatahedron.edges, v=True).png())"
   ]
  },
  {
   "cell_type": "code",
   "execution_count": 80,
   "metadata": {},
   "outputs": [],
   "source": [
    "ocatahedron.rotate_unison(np.array([[50, 50, 40]]), np.array([1, 1, 1]), np.pi * 2/20)"
   ]
  },
  {
   "cell_type": "code",
   "execution_count": 81,
   "metadata": {},
   "outputs": [
    {
     "data": {
      "image/png": "[encoded data removed]",
      "text/plain": [
       "<IPython.core.display.Image object>"
      ]
     },
     "execution_count": 81,
     "metadata": {},
     "output_type": "execute_result"
    }
   ],
   "source": [
    "Image(draw.quick_draw_zsampled_edges(ocatahedron.edges, n=1000, scatter=0.01).png())"
   ]
  },
  {
   "cell_type": "code",
   "execution_count": 82,
   "metadata": {},
   "outputs": [],
   "source": [
    "#### Tiling code"
   ]
  },
  {
   "cell_type": "code",
   "execution_count": 118,
   "metadata": {},
   "outputs": [],
   "source": [
    "ocatahedron = Octahedron(np.array([50, 50, 40]), 47)"
   ]
  },
  {
   "cell_type": "code",
   "execution_count": 119,
   "metadata": {},
   "outputs": [
    {
     "data": {
      "text/plain": [
       "(12, 2, 2)"
      ]
     },
     "execution_count": 119,
     "metadata": {},
     "output_type": "execute_result"
    }
   ],
   "source": [
    "ocatahedron.edges[:, :, :-1].shape"
   ]
  },
  {
   "cell_type": "code",
   "execution_count": 120,
   "metadata": {},
   "outputs": [
    {
     "name": "stdout",
     "output_type": "stream",
     "text": [
      "150 197 103 150\n",
      "150 197 150 150\n",
      "150 197 197 150\n",
      "150 197 150 150\n",
      "150 103 103 150\n",
      "150 103 150 150\n",
      "150 103 197 150\n",
      "150 103 150 150\n",
      "103 150 150 150\n",
      "150 150 197 150\n",
      "197 150 150 150\n",
      "150 150 103 150\n"
     ]
    }
   ],
   "source": [
    "for e in ocatahedron.edges[:, :, :-1]+np.array([100,100]):\n",
    "    print(*e.flatten())"
   ]
  },
  {
   "cell_type": "code",
   "execution_count": 121,
   "metadata": {},
   "outputs": [],
   "source": [
    "tiled_page = draw.setup_tiled_page(n_cols=5,n_rows=5)"
   ]
  },
  {
   "cell_type": "code",
   "execution_count": 128,
   "metadata": {},
   "outputs": [],
   "source": [
    "for d in range(1):\n",
    "    for i,j in itertools.product(range(5), repeat=2):\n",
    "\n",
    "        draw.draw_zsampled_edges_on_tile(\n",
    "            ocatahedron.edges,\n",
    "            i,\n",
    "            j,\n",
    "            tile_size=100,\n",
    "            page=tiled_page,\n",
    "            v=False\n",
    "        )\n",
    "        ocatahedron.rotate_unison(np.array([[50, 50, 40]]), np.array([d*0.05, d*0.05, 1]), np.pi * 2/24)"
   ]
  },
  {
   "cell_type": "code",
   "execution_count": null,
   "metadata": {},
   "outputs": [],
   "source": [
    "Image(tiled_page.image(kind=\"rgba\", ppi=60).png())"
   ]
  },
  {
   "cell_type": "code",
   "execution_count": null,
   "metadata": {},
   "outputs": [],
   "source": []
  }
 ],
 "metadata": {
  "kernelspec": {
   "display_name": "Python 3",
   "language": "python",
   "name": "python3"
  },
  "language_info": {
   "codemirror_mode": {
    "name": "ipython",
    "version": 3
   },
   "file_extension": ".py",
   "mimetype": "text/x-python",
   "name": "python",
   "nbconvert_exporter": "python",
   "pygments_lexer": "ipython3",
   "version": "3.8.5"
  }
 },
 "nbformat": 4,
 "nbformat_minor": 4
}
