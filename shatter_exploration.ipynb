{
 "cells": [
  {
   "cell_type": "markdown",
   "metadata": {},
   "source": [
    "# Rotating edge experiment"
   ]
  },
  {
   "cell_type": "code",
   "execution_count": 1,
   "metadata": {},
   "outputs": [],
   "source": [
    "%load_ext autoreload\n",
    "%autoreload 2"
   ]
  },
  {
   "cell_type": "code",
   "execution_count": 6,
   "metadata": {},
   "outputs": [],
   "source": [
    "import lineart.transforms as transforms\n",
    "import numpy as np\n",
    "from IPython.display import Image\n",
    "from flat import rgba, font, shape, strike, document\n",
    "import lineart.style as style"
   ]
  },
  {
   "cell_type": "code",
   "execution_count": 7,
   "metadata": {},
   "outputs": [],
   "source": [
    "e = np.array([\n",
    "    [0,0,0],\n",
    "    [1,1,0]\n",
    "])\n",
    "p = np.array([0,1,0])\n",
    "o = np.array([0,0,0])\n",
    "edges = np.array([e,e,e])\n",
    "points = np.array([p,p])"
   ]
  },
  {
   "cell_type": "code",
   "execution_count": 10,
   "metadata": {},
   "outputs": [
    {
     "data": {
      "text/plain": [
       "array([[[ 0.,  0.,  0.],\n",
       "        [ 1., -1.,  0.]],\n",
       "\n",
       "       [[ 0.,  0.,  0.],\n",
       "        [ 1., -1.,  0.]],\n",
       "\n",
       "       [[ 0.,  0.,  0.],\n",
       "        [ 1., -1.,  0.]]])"
      ]
     },
     "execution_count": 10,
     "metadata": {},
     "output_type": "execute_result"
    }
   ],
   "source": [
    "transforms.rotate_xy(edges, 0, np.pi/2)"
   ]
  },
  {
   "cell_type": "markdown",
   "metadata": {},
   "source": [
    "## split edges"
   ]
  },
  {
   "cell_type": "code",
   "execution_count": 11,
   "metadata": {},
   "outputs": [],
   "source": [
    "def draw_edges(edges, image_size=100, v=False):\n",
    "    \n",
    "    edges = edges.reshape(-1,2,3)[:,:,:-1]\n",
    "    # page setup\n",
    "    d = document(image_size, image_size, 'mm')\n",
    "    page = d.addpage()\n",
    "    page.place(style.background.rectangle(0,0,image_size,image_size))\n",
    "    for e in edges:\n",
    "        page.place(style.edge.line(*e.flatten()))\n",
    "    if v:\n",
    "        for p in edges.reshape(-1,2):\n",
    "            page.place(style.debug.circle(*p, 2))\n",
    "        \n",
    "    return (page.image(kind='rgba', ppi=60).png())"
   ]
  },
  {
   "cell_type": "code",
   "execution_count": 12,
   "metadata": {},
   "outputs": [
    {
     "data": {
      "image/png": "[encoded data removed]",
      "text/plain": [
       "<IPython.core.display.Image object>"
      ]
     },
     "execution_count": 12,
     "metadata": {},
     "output_type": "execute_result"
    }
   ],
   "source": [
    "edges = np.random.rand(6,2,3)*100\n",
    "Image(draw_edges(edges, v=True))"
   ]
  },
  {
   "cell_type": "code",
   "execution_count": 13,
   "metadata": {},
   "outputs": [
    {
     "data": {
      "image/png": "[encoded data removed]",
      "text/plain": [
       "<IPython.core.display.Image object>"
      ]
     },
     "execution_count": 13,
     "metadata": {},
     "output_type": "execute_result"
    }
   ],
   "source": [
    "Image(draw_edges(e*100))"
   ]
  },
  {
   "cell_type": "code",
   "execution_count": 14,
   "metadata": {},
   "outputs": [],
   "source": [
    "def split(e, n):\n",
    "    fracs = np.random.rand(n, 1)\n",
    "    fracs.sort(axis=0)\n",
    "    vector = e[1] - e[0]\n",
    "    splits = np.multiply(fracs[::-1], vector) + e[0]\n",
    "    points = np.concatenate((e[1].reshape(1,3),splits,e[0].reshape(1,3)))\n",
    "    starts = points[:-1]\n",
    "    ends = points[1:]\n",
    "    edges = np.concatenate((starts.reshape(-1,1,3),ends.reshape(-1,1,3)),axis=1)\n",
    "    return edges"
   ]
  },
  {
   "cell_type": "code",
   "execution_count": 27,
   "metadata": {},
   "outputs": [
    {
     "data": {
      "image/png": "[encoded data removed]",
      "text/plain": [
       "<IPython.core.display.Image object>"
      ]
     },
     "execution_count": 27,
     "metadata": {},
     "output_type": "execute_result"
    }
   ],
   "source": [
    "splits = split(e*100,10)\n",
    "\n",
    "Image(draw_edges(splits, v=True))"
   ]
  },
  {
   "cell_type": "code",
   "execution_count": 153,
   "metadata": {},
   "outputs": [],
   "source": [
    "class EdgeCollection:\n",
    "    def __init__(self, edges, velocities):\n",
    "        self.edges = edges\n",
    "        self.velocities = velocities\n",
    "        self.centers = self.edges.sum(axis=1)/2\n",
    "    def move(self, t):\n",
    "        self.edges = self.edges + t*np.repeat(self.velocities[:,np.newaxis, :], 2, axis=1)\n",
    "    def rotate_indiv(self, theta, normal=[0,0,1]):\n",
    "        rot_mat = transforms.rotation_matrix(theta, [0,0,1])\n",
    "        edge_p0 = np.repeat(self.centers[:,np.newaxis, :], 2, axis=1)\n",
    "        self.edges = (np.matmul((split_collection.edges - edge_p0), rot_mat) + edge_p0)"
   ]
  },
  {
   "cell_type": "code",
   "execution_count": 154,
   "metadata": {},
   "outputs": [],
   "source": [
    "split_collection = EdgeCollection(splits, np.random.randn(*splits[:,0,:].shape))"
   ]
  },
  {
   "cell_type": "code",
   "execution_count": 155,
   "metadata": {},
   "outputs": [
    {
     "data": {
      "image/png": "[encoded data removed]",
      "text/plain": [
       "<IPython.core.display.Image object>"
      ]
     },
     "execution_count": 155,
     "metadata": {},
     "output_type": "execute_result"
    }
   ],
   "source": [
    "Image(draw_edges(split_collection.edges, v=True))"
   ]
  },
  {
   "cell_type": "code",
   "execution_count": 172,
   "metadata": {},
   "outputs": [
    {
     "data": {
      "image/png": "[encoded data removed]",
      "text/plain": [
       "<IPython.core.display.Image object>"
      ]
     },
     "execution_count": 172,
     "metadata": {},
     "output_type": "execute_result"
    }
   ],
   "source": [
    "split_collection.move(1)\n",
    "# split_collection.rotate_indiv(np.pi/50)\n",
    "Image(draw_edges(split_collection.edges, v=True))"
   ]
  },
  {
   "cell_type": "code",
   "execution_count": 81,
   "metadata": {},
   "outputs": [
    {
     "data": {
      "text/plain": [
       "array([[[75.04405398, 56.46648329, 20.31897183],\n",
       "        [90.99079122, 16.86885395, 85.62738788]],\n",
       "\n",
       "       [[ 4.35357729, 77.00121778, 81.03324065],\n",
       "        [30.0278506 , 80.15796384,  5.81202874]],\n",
       "\n",
       "       [[64.55983154, 47.75144402, 26.63299122],\n",
       "        [70.49289172, 13.54178247, 23.12788994]],\n",
       "\n",
       "       [[50.37419433, 26.42070258, 19.62413544],\n",
       "        [34.84341643, 29.59515212, 73.75110017]],\n",
       "\n",
       "       [[80.44183616,  8.6898059 , 84.39425673],\n",
       "        [33.65252055,  7.45024473, 19.1950754 ]],\n",
       "\n",
       "       [[92.26312278, 13.42543504, 25.76594204],\n",
       "        [ 8.61269092,  5.07687582,  9.91251548]]])"
      ]
     },
     "execution_count": 81,
     "metadata": {},
     "output_type": "execute_result"
    }
   ],
   "source": [
    "edges"
   ]
  },
  {
   "cell_type": "code",
   "execution_count": 21,
   "metadata": {},
   "outputs": [
    {
     "data": {
      "text/plain": [
       "array([[83.0174226 , 36.66766862, 52.97317986],\n",
       "       [17.19071395, 78.57959081, 43.4226347 ],\n",
       "       [67.52636163, 30.64661324, 24.88044058],\n",
       "       [42.60880538, 28.00792735, 46.6876178 ],\n",
       "       [57.04717836,  8.07002532, 51.79466607],\n",
       "       [50.43790685,  9.25115543, 17.83922876]])"
      ]
     },
     "execution_count": 21,
     "metadata": {},
     "output_type": "execute_result"
    }
   ],
   "source": [
    "edges.sum(axis=1)/2"
   ]
  },
  {
   "cell_type": "code",
   "execution_count": 22,
   "metadata": {},
   "outputs": [
    {
     "ename": "NameError",
     "evalue": "name 'rotate_xy' is not defined",
     "output_type": "error",
     "traceback": [
      "\u001b[0;31m---------------------------------------------------------------------------\u001b[0m",
      "\u001b[0;31mNameError\u001b[0m                                 Traceback (most recent call last)",
      "\u001b[0;32m<ipython-input-22-c4732efd0c3b>\u001b[0m in \u001b[0;36m<module>\u001b[0;34m\u001b[0m\n\u001b[0;32m----> 1\u001b[0;31m \u001b[0mrotate_xy\u001b[0m\u001b[0;34m(\u001b[0m\u001b[0medges\u001b[0m\u001b[0;34m,\u001b[0m \u001b[0medges\u001b[0m\u001b[0;34m.\u001b[0m\u001b[0msum\u001b[0m\u001b[0;34m(\u001b[0m\u001b[0maxis\u001b[0m\u001b[0;34m=\u001b[0m\u001b[0;36m1\u001b[0m\u001b[0;34m)\u001b[0m\u001b[0;34m/\u001b[0m\u001b[0;36m2\u001b[0m\u001b[0;34m,\u001b[0m \u001b[0mnp\u001b[0m\u001b[0;34m.\u001b[0m\u001b[0mpi\u001b[0m\u001b[0;34m)\u001b[0m\u001b[0;34m\u001b[0m\u001b[0;34m\u001b[0m\u001b[0m\n\u001b[0m",
      "\u001b[0;31mNameError\u001b[0m: name 'rotate_xy' is not defined"
     ]
    }
   ],
   "source": [
    "rotate_xy(edges, edges.sum(axis=1)/2, np.pi)"
   ]
  },
  {
   "cell_type": "code",
   "execution_count": 44,
   "metadata": {},
   "outputs": [],
   "source": [
    "rot_mat = transforms.rotation_matrix([0,0,0], [0,0,1], np.pi/2)"
   ]
  },
  {
   "cell_type": "code",
   "execution_count": 45,
   "metadata": {},
   "outputs": [
    {
     "data": {
      "text/plain": [
       "(3, 3)"
      ]
     },
     "execution_count": 45,
     "metadata": {},
     "output_type": "execute_result"
    }
   ],
   "source": [
    "rot_mat.shape\n"
   ]
  },
  {
   "cell_type": "code",
   "execution_count": 46,
   "metadata": {},
   "outputs": [],
   "source": [
    "edge_rot_mat = np.repeat(rot_mat[np.newaxis,:, :], 2, axis=0)"
   ]
  },
  {
   "cell_type": "code",
   "execution_count": 47,
   "metadata": {},
   "outputs": [
    {
     "data": {
      "text/plain": [
       "(2, 3, 3)"
      ]
     },
     "execution_count": 47,
     "metadata": {},
     "output_type": "execute_result"
    }
   ],
   "source": [
    "edge_rot_mat.shape"
   ]
  },
  {
   "cell_type": "code",
   "execution_count": 48,
   "metadata": {},
   "outputs": [],
   "source": [
    "edge_p0 = np.repeat(split_collection.centers[:,np.newaxis, :], 2, axis=1)"
   ]
  },
  {
   "cell_type": "code",
   "execution_count": 67,
   "metadata": {},
   "outputs": [
    {
     "data": {
      "image/png": "[encoded data removed]",
      "text/plain": [
       "<IPython.core.display.Image object>"
      ]
     },
     "execution_count": 67,
     "metadata": {},
     "output_type": "execute_result"
    }
   ],
   "source": [
    "Image(draw_edges((np.matmul((split_collection.edges - edge_p0), rot_mat) + edge_p0), v=True))"
   ]
  },
  {
   "cell_type": "code",
   "execution_count": 56,
   "metadata": {},
   "outputs": [
    {
     "data": {
      "text/plain": [
       "(11, 2, 3)"
      ]
     },
     "execution_count": 56,
     "metadata": {},
     "output_type": "execute_result"
    }
   ],
   "source": [
    "split_collection.edges.shape"
   ]
  },
  {
   "cell_type": "code",
   "execution_count": 52,
   "metadata": {},
   "outputs": [
    {
     "data": {
      "text/plain": [
       "array([[[98.59031238, 98.59031238,  0.        ],\n",
       "        [98.59031238, 98.59031238,  0.        ]],\n",
       "\n",
       "       [[95.57811547, 95.57811547,  0.        ],\n",
       "        [95.57811547, 95.57811547,  0.        ]],\n",
       "\n",
       "       [[91.80040519, 91.80040519,  0.        ],\n",
       "        [91.80040519, 91.80040519,  0.        ]],\n",
       "\n",
       "       [[81.73588968, 81.73588968,  0.        ],\n",
       "        [81.73588968, 81.73588968,  0.        ]],\n",
       "\n",
       "       [[70.9535059 , 70.9535059 ,  0.        ],\n",
       "        [70.9535059 , 70.9535059 ,  0.        ]],\n",
       "\n",
       "       [[52.47371156, 52.47371156,  0.        ],\n",
       "        [52.47371156, 52.47371156,  0.        ]],\n",
       "\n",
       "       [[34.42242876, 34.42242876,  0.        ],\n",
       "        [34.42242876, 34.42242876,  0.        ]],\n",
       "\n",
       "       [[29.75500316, 29.75500316,  0.        ],\n",
       "        [29.75500316, 29.75500316,  0.        ]],\n",
       "\n",
       "       [[17.08186315, 17.08186315,  0.        ],\n",
       "        [17.08186315, 17.08186315,  0.        ]],\n",
       "\n",
       "       [[ 5.90367022,  5.90367022,  0.        ],\n",
       "        [ 5.90367022,  5.90367022,  0.        ]],\n",
       "\n",
       "       [[ 2.59787471,  2.59787471,  0.        ],\n",
       "        [ 2.59787471,  2.59787471,  0.        ]]])"
      ]
     },
     "execution_count": 52,
     "metadata": {},
     "output_type": "execute_result"
    }
   ],
   "source": [
    "edge_p0"
   ]
  },
  {
   "cell_type": "code",
   "execution_count": 53,
   "metadata": {},
   "outputs": [
    {
     "data": {
      "text/plain": [
       "array([[[ 6.123234e-17, -1.000000e+00,  0.000000e+00],\n",
       "        [ 1.000000e+00,  6.123234e-17,  0.000000e+00],\n",
       "        [ 0.000000e+00,  0.000000e+00,  1.000000e+00]],\n",
       "\n",
       "       [[ 6.123234e-17, -1.000000e+00,  0.000000e+00],\n",
       "        [ 1.000000e+00,  6.123234e-17,  0.000000e+00],\n",
       "        [ 0.000000e+00,  0.000000e+00,  1.000000e+00]]])"
      ]
     },
     "execution_count": 53,
     "metadata": {},
     "output_type": "execute_result"
    }
   ],
   "source": [
    "edge_rot_mat"
   ]
  },
  {
   "cell_type": "code",
   "execution_count": 64,
   "metadata": {},
   "outputs": [
    {
     "data": {
      "text/plain": [
       "(11, 2, 3)"
      ]
     },
     "execution_count": 64,
     "metadata": {},
     "output_type": "execute_result"
    }
   ],
   "source": [
    "np.matmul(np.ones((11,2,3)), np.ones((3,3))).shape"
   ]
  },
  {
   "cell_type": "code",
   "execution_count": null,
   "metadata": {},
   "outputs": [],
   "source": []
  }
 ],
 "metadata": {
  "kernelspec": {
   "display_name": "Python 3",
   "language": "python",
   "name": "python3"
  },
  "language_info": {
   "codemirror_mode": {
    "name": "ipython",
    "version": 3
   },
   "file_extension": ".py",
   "mimetype": "text/x-python",
   "name": "python",
   "nbconvert_exporter": "python",
   "pygments_lexer": "ipython3",
   "version": "3.8.5"
  }
 },
 "nbformat": 4,
 "nbformat_minor": 4
}
