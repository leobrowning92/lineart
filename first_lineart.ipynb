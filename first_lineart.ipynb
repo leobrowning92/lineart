{
 "cells": [
  {
   "cell_type": "markdown",
   "metadata": {},
   "source": [
    "# lineart test"
   ]
  },
  {
   "cell_type": "code",
   "execution_count": 1,
   "metadata": {},
   "outputs": [],
   "source": [
    "%load_ext autoreload\n",
    "%autoreload 2"
   ]
  },
  {
   "cell_type": "code",
   "execution_count": 2,
   "metadata": {},
   "outputs": [],
   "source": [
    "import numpy as np\n",
    "from flat import rgba, font, shape, strike, document\n",
    "from IPython.display import Image\n",
    "import dask"
   ]
  },
  {
   "cell_type": "markdown",
   "metadata": {},
   "source": [
    "## First experiment"
   ]
  },
  {
   "cell_type": "code",
   "execution_count": 3,
   "metadata": {},
   "outputs": [],
   "source": [
    "image_size = 100"
   ]
  },
  {
   "cell_type": "code",
   "execution_count": 4,
   "metadata": {},
   "outputs": [],
   "source": [
    "# colors\n",
    "canvas = rgba(254, 250, 219,255)\n",
    "sand = rgba(254, 250, 219,50)\n",
    "blue = rgba(33, 80, 98,255)\n",
    "red = rgba(255, 0, 0,255)\n",
    "# styles\n",
    "background = shape().fill(blue).nostroke()\n",
    "netstyle = shape().stroke(canvas).width(1)\n",
    "sandstyle = shape().fill(sand).nostroke()\n",
    "debug = shape().stroke(red).width(0.5)"
   ]
  },
  {
   "cell_type": "code",
   "execution_count": 5,
   "metadata": {},
   "outputs": [
    {
     "data": {
      "image/png": "[encoded data removed]",
      "text/plain": [
       "<IPython.core.display.Image object>"
      ]
     },
     "execution_count": 5,
     "metadata": {},
     "output_type": "execute_result"
    }
   ],
   "source": [
    "# page setup\n",
    "d = document(image_size, image_size, 'mm')\n",
    "page = d.addpage()\n",
    "page.place(background.rectangle(0,0,image_size,image_size))\n",
    "\n",
    "nodes = np.random.rand(20,2)*image_size\n",
    "\n",
    "for p in nodes:\n",
    "    page.place(netstyle.circle(*p, 1))\n",
    "for i in range(10):\n",
    "    page.place(netstyle.line(*nodes[np.random.randint(len(nodes))],*nodes[np.random.randint(len(nodes))]))\n",
    "    \n",
    "# Display image\n",
    "Image((page.image(kind='rgba', ppi=60).png())) "
   ]
  },
  {
   "cell_type": "markdown",
   "metadata": {},
   "source": [
    "## single line dither test\n",
    "\n",
    "3D rotation about some normalised vector u\n",
    "\n",
    "\\begin{bmatrix}\\cos \\theta +u_{x}^{2}\\left(1-\\cos \\theta \\right)&u_{x}u_{y}\\left(1-\\cos \\theta \\right)-u_{z}\\sin \\theta &u_{x}u_{z}\\left(1-\\cos \\theta \\right)+u_{y}\\sin \\theta \\\\u_{y}u_{x}\\left(1-\\cos \\theta \\right)+u_{z}\\sin \\theta &\\cos \\theta +u_{y}^{2}\\left(1-\\cos \\theta \\right)&u_{y}u_{z}\\left(1-\\cos \\theta \\right)-u_{x}\\sin \\theta \\\\u_{z}u_{x}\\left(1-\\cos \\theta \\right)-u_{y}\\sin \\theta &u_{z}u_{y}\\left(1-\\cos \\theta \\right)+u_{x}\\sin \\theta &\\cos \\theta +u_{z}^{2}\\left(1-\\cos \\theta \\right)\\end{bmatrix}"
   ]
  },
  {
   "cell_type": "code",
   "execution_count": 31,
   "metadata": {},
   "outputs": [],
   "source": [
    "class SampleLine(object):\n",
    "    def __init__(self, p1: np.array, p2: np.array):\n",
    "        self.p1 = p1\n",
    "        self.p2 = p2\n",
    "        self.vector = p2-p1\n",
    "    def sample(self, n, dither=0):\n",
    "        r_sample = np.random.rand(n, 1)\n",
    "        points = np.multiply(r_sample, self.vector)+self.p1\n",
    "        if dither:\n",
    "            z_values = points[:,2]\n",
    "            jitter_scalar = np.multiply(dither,z_values)\n",
    "\n",
    "            jitter = np.multiply((np.random.randn(n,2)*2-1),np.stack((jitter_scalar,jitter_scalar),axis=1))\n",
    "            points = points + np.concatenate((jitter, np.zeros_like(z_values).reshape(-1,1)),axis=1)\n",
    "        return points\n",
    "    def rotate_xy(self,p0,theta):\n",
    "        self.p1 = rotate_xy(self.p1,p0,theta)\n",
    "        self.p2 = rotate_xy(self.p2,p0,theta)\n",
    "        self.vector = self.p2-self.p1\n",
    "        \n",
    "\n",
    "\n",
    "def rotate(point, p0, normal, theta):\n",
    "    ux, uy, uz = (normal/np.linalg.norm(normal))\n",
    "    rot_mat = np.array([\n",
    "        [np.cos(theta) + ux**2*(1-np.cos(theta)),    ux*uy*(1-np.cos(theta)) - uz*np.sin(theta),  ux*uz*(1-np.cos(theta)) + uy*np.sin(theta)],\n",
    "        [uy*ux*(1-np.cos(theta)) + uz*np.sin(theta), np.cos(theta) + uy**2*(1-np.cos(theta)),     uy*uz*(1-np.cos(theta)) - ux*np.sin(theta)],\n",
    "        [uz*ux*(1-np.cos(theta)) - uy*np.sin(theta), uz*uy*(1-np.cos(theta)) + ux*np.sin(theta),  np.cos(theta) + uz**2*(1-np.cos(theta))],\n",
    "    ])\n",
    "    \n",
    "    p0_shifted = point-p0\n",
    "    rotated = p0_shifted.dot(rot_mat)\n",
    "    back_shifted = rotated+p0\n",
    "    return back_shifted\n",
    "    \n",
    "def rotate_xy(point, p0, theta):\n",
    "    back_shifted = rotate(point, p0, [0,0,1], theta)\n",
    "    return back_shifted\n",
    "    "
   ]
  },
  {
   "cell_type": "code",
   "execution_count": 32,
   "metadata": {},
   "outputs": [
    {
     "data": {
      "image/png": "[encoded data removed]",
      "text/plain": [
       "<IPython.core.display.Image object>"
      ]
     },
     "execution_count": 32,
     "metadata": {},
     "output_type": "execute_result"
    }
   ],
   "source": [
    "image_size = 100\n",
    "# page setup\n",
    "d = document(image_size, image_size, 'mm')\n",
    "page = d.addpage()\n",
    "page.place(background.rectangle(0,0,image_size,image_size))\n",
    "\n",
    "\n",
    "nodes = np.array([\n",
    "    [10, 50,0], \n",
    "    [90, 50,100]\n",
    "])\n",
    "dither_line = SampleLine(*nodes)\n",
    "\n",
    "rotation_point = np.array([50,50,0])\n",
    "for i in range (7):\n",
    "    theta = np.pi/8\n",
    "    \n",
    "    # page.place(netstyle.circle(*dither_line.p1[:2], 1))\n",
    "    # page.place(netstyle.circle(*dither_line.p2[:2], 1))\n",
    "    # page.place(debug.line(*dither_line.p1,*dither_line.p2))\n",
    "    samples = dither_line.sample(1000, 0.004)\n",
    "\n",
    "    for p in samples:\n",
    "        page.place(sandstyle.circle(*p[:2], 0.1))\n",
    "    dither_line.rotate_xy(rotation_point, theta)\n",
    "# Display image\n",
    "Image((page.image(kind='rgba', ppi=60).png())) "
   ]
  },
  {
   "cell_type": "markdown",
   "metadata": {},
   "source": [
    "### Polygon test"
   ]
  },
  {
   "cell_type": "code",
   "execution_count": 8,
   "metadata": {},
   "outputs": [],
   "source": [
    "class Octahedron:\n",
    "    def __init__(self, center, radius):\n",
    "        origin_nodes = np.array([\n",
    "            [0,  radius, 0],\n",
    "            [-radius, 0, 0],\n",
    "            [0, 0, -radius],\n",
    "            [ radius, 0, 0],\n",
    "            [0, 0,  radius],\n",
    "            [0, -radius, 0],\n",
    "        ])\n",
    "        self.nodes = origin_nodes + center\n",
    "        self.edges = self.edges_from_nodes()\n",
    "    def edges_from_nodes(self):\n",
    "        edges = np.array([\n",
    "            [self.nodes[0], self.nodes[1]],\n",
    "            [self.nodes[0], self.nodes[2]],\n",
    "            [self.nodes[0], self.nodes[3]],\n",
    "            [self.nodes[0], self.nodes[4]],\n",
    "            [self.nodes[5], self.nodes[1]],\n",
    "            [self.nodes[5], self.nodes[2]],\n",
    "            [self.nodes[5], self.nodes[3]],\n",
    "            [self.nodes[5], self.nodes[4]],\n",
    "            [self.nodes[1], self.nodes[2]],\n",
    "            [self.nodes[2], self.nodes[3]],\n",
    "            [self.nodes[3], self.nodes[4]],\n",
    "            [self.nodes[4], self.nodes[1]],\n",
    "            \n",
    "        ])\n",
    "        return edges\n",
    "    def rotate(self, p0, normal, theta):\n",
    "        self.nodes = rotate(self.nodes, p0, normal, theta)\n",
    "        self.edges = self.edges_from_nodes()\n",
    "\n",
    "        \n",
    "class SampleOctahedron(Octahedron):\n",
    "    def __init__(self, center, radius):\n",
    "        super().__init__(center, radius)\n",
    "        self.lines = [SampleLine(*e) for e in self.edges]\n",
    "    def sample(self, n, dither):\n",
    "        line_points = [line.sample(n, dither) for line in self.lines]\n",
    "        points = np.concatenate(line_points)\n",
    "        return points\n",
    "    \n",
    "    def rotate(self, p0, normal, theta):\n",
    "        super().rotate( p0, normal, theta)\n",
    "        self.lines = [SampleLine(*e) for e in self.edges]\n",
    "        \n",
    "        "
   ]
  },
  {
   "cell_type": "markdown",
   "metadata": {},
   "source": [
    "#### Examination of rendering time for sampled polyhedra"
   ]
  },
  {
   "cell_type": "code",
   "execution_count": 82,
   "metadata": {},
   "outputs": [
    {
     "name": "stdout",
     "output_type": "stream",
     "text": [
      "CPU times: user 2.62 ms, sys: 3.95 ms, total: 6.57 ms\n",
      "Wall time: 6.32 ms\n"
     ]
    }
   ],
   "source": [
    "%%time\n",
    "image_size = 100\n",
    "# page setup\n",
    "d = document(image_size, image_size, 'mm')\n",
    "page = d.addpage()\n",
    "page.place(background.rectangle(0,0,image_size,image_size))\n",
    "o = SampleOctahedron(np.array([50,50,40]),40)\n",
    "\n",
    "o.rotate([50,50,40], [1,1,1], np.pi*2/16)\n",
    "\n",
    "\n",
    "\n"
   ]
  },
  {
   "cell_type": "code",
   "execution_count": 83,
   "metadata": {},
   "outputs": [
    {
     "name": "stdout",
     "output_type": "stream",
     "text": [
      "CPU times: user 2.6 ms, sys: 816 µs, total: 3.42 ms\n",
      "Wall time: 2.48 ms\n"
     ]
    }
   ],
   "source": [
    "%%time\n",
    "# linear with number of samples\n",
    "samples = o.sample(1000,0.01)"
   ]
  },
  {
   "cell_type": "code",
   "execution_count": 84,
   "metadata": {},
   "outputs": [
    {
     "name": "stdout",
     "output_type": "stream",
     "text": [
      "CPU times: user 35.5 ms, sys: 1.08 ms, total: 36.6 ms\n",
      "Wall time: 35.9 ms\n"
     ]
    }
   ],
   "source": [
    "%%time\n",
    "# slightly more than linear with number of samples\n",
    "for p in samples:\n",
    "    page.place(sandstyle.circle(*p[:2], 0.1)) \n",
    "# Display image"
   ]
  },
  {
   "cell_type": "code",
   "execution_count": null,
   "metadata": {},
   "outputs": [],
   "source": []
  },
  {
   "cell_type": "code",
   "execution_count": 85,
   "metadata": {},
   "outputs": [
    {
     "name": "stdout",
     "output_type": "stream",
     "text": [
      "CPU times: user 1.39 s, sys: 2.65 ms, total: 1.39 s\n",
      "Wall time: 1.39 s\n"
     ]
    },
    {
     "data": {
      "image/png": "[encoded data removed]",
      "text/plain": [
       "<IPython.core.display.Image object>"
      ]
     },
     "execution_count": 85,
     "metadata": {},
     "output_type": "execute_result"
    }
   ],
   "source": [
    "%%time\n",
    "# linear with number of samples\n",
    "Image((page.image(kind='rgba', ppi=60).png())) "
   ]
  },
  {
   "cell_type": "markdown",
   "metadata": {},
   "source": [
    "#### Dask delayed multiprocessing rendering of rotating image"
   ]
  },
  {
   "cell_type": "code",
   "execution_count": 27,
   "metadata": {},
   "outputs": [],
   "source": [
    "@dask.delayed\n",
    "def sample_octohedron(i):\n",
    "    image_size = 100\n",
    "    # page setup\n",
    "    d = document(image_size, image_size, 'mm')\n",
    "    page = d.addpage()\n",
    "    page.place(background.rectangle(0,0,image_size,image_size))\n",
    "    o = SampleOctahedron(np.array([50,50,40]),40)\n",
    "\n",
    "    o.rotate([50,50,40], [1,1,1], np.pi*2/200*i)\n",
    "    samples = o.sample(1000,0.03)\n",
    "\n",
    "    for p in samples:\n",
    "        page.place(sandstyle.circle(*p[:2], 0.1)) \n",
    "    # Display image\n",
    "    page.image(kind='rgba', ppi=60).png(f'outputs/{i:03d}.png')\n",
    "    return i\n",
    "\n",
    "samples = [sample_octohedron(i) for i in range(200)]\n"
   ]
  },
  {
   "cell_type": "code",
   "execution_count": null,
   "metadata": {},
   "outputs": [],
   "source": [
    "%%time\n",
    "dask.persist(*samples, scheduler='processes')"
   ]
  },
  {
   "cell_type": "code",
   "execution_count": null,
   "metadata": {},
   "outputs": [],
   "source": [
    "%%time\n",
    "dask.persist(*samples, scheduler='threads')"
   ]
  },
  {
   "cell_type": "code",
   "execution_count": null,
   "metadata": {},
   "outputs": [],
   "source": [
    "%%time\n",
    "dask.persist(*samples, scheduler='single-threaded')"
   ]
  },
  {
   "cell_type": "markdown",
   "metadata": {},
   "source": [
    "### Random network"
   ]
  },
  {
   "cell_type": "code",
   "execution_count": null,
   "metadata": {},
   "outputs": [],
   "source": []
  }
 ],
 "metadata": {
  "kernelspec": {
   "display_name": "Python 3",
   "language": "python",
   "name": "python3"
  },
  "language_info": {
   "codemirror_mode": {
    "name": "ipython",
    "version": 3
   },
   "file_extension": ".py",
   "mimetype": "text/x-python",
   "name": "python",
   "nbconvert_exporter": "python",
   "pygments_lexer": "ipython3",
   "version": "3.8.2"
  }
 },
 "nbformat": 4,
 "nbformat_minor": 4
}
