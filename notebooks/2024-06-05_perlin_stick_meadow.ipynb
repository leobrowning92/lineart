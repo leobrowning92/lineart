{
 "cells": [
  {
   "cell_type": "markdown",
   "metadata": {},
   "source": [
    "# Stick flowers experiment"
   ]
  },
  {
   "cell_type": "code",
   "execution_count": null,
   "metadata": {},
   "outputs": [],
   "source": [
    "%load_ext autoreload\n",
    "%autoreload 2"
   ]
  },
  {
   "cell_type": "code",
   "execution_count": null,
   "metadata": {},
   "outputs": [],
   "source": [
    "import itertools\n",
    "import numpy as np\n",
    "from IPython.display import Image\n",
    "from lineart import style, transform, draw\n",
    "from lineart.primatives import EdgeCollection\n",
    "import structlog\n",
    "\n",
    "logger = structlog.get_logger()"
   ]
  },
  {
   "cell_type": "markdown",
   "metadata": {},
   "source": [
    "# Perlin experiments"
   ]
  },
  {
   "cell_type": "markdown",
   "metadata": {},
   "source": [
    "Note, as things stand both my numpy perlin and the one from the wiki seem to only work with a periodicity of 1 on a 2d plane of size 1, while the numpy perlin generates a grid, while i want to sample at an arbitrary point. "
   ]
  },
  {
   "cell_type": "markdown",
   "metadata": {},
   "source": [
    "## my numpy perlin"
   ]
  },
  {
   "cell_type": "code",
   "execution_count": 857,
   "metadata": {},
   "outputs": [],
   "source": [
    "def interpolate(a0, a1, w):\n",
    "    return (a1 - a0) * ((w * (w * 6.0 - 15.0) + 10.0) * w * w * w) + a0"
   ]
  },
  {
   "cell_type": "code",
   "execution_count": 858,
   "metadata": {},
   "outputs": [],
   "source": [
    "resolution = 4\n",
    "size = 1\n",
    "unit = size / resolution\n",
    "gradients = np.random.rand(resolution + 1, resolution + 1, 2)\n",
    "gradients = np.array(\n",
    "    [\n",
    "        [[0, 1], [1, 0], [0, 1], [1, 0], [0, 1]],\n",
    "        [[0, 1], [1, 0], [0, 1], [1, 0], [0, 1]],\n",
    "        [[0, 1], [1, 0], [0, 1], [1, 0], [0, 1]],\n",
    "        [[0, 1], [1, 0], [0, 1], [1, 0], [0, 1]],\n",
    "        [[0, 1], [1, 0], [0, 1], [1, 0], [0, 1]],\n",
    "    ]\n",
    ")\n",
    "# logger.info(\"gradients\", shape=gradients.shape)\n",
    "gradients = gradients / np.linalg.norm(gradients, axis=-1).reshape(\n",
    "    resolution + 1, resolution + 1, 1\n",
    ")\n",
    "# logger.info(\"gradients\", shape=gradients.shape)\n",
    "cy, cx = np.meshgrid(\n",
    "    np.linspace(0, 1, resolution + 1), np.linspace(0, 1, resolution + 1)\n",
    ")\n",
    "# logger.info(\"cy,cx,cz\", shape=(cy.shape,cx.shape,cz.shape))\n",
    "cell_node_lattice = np.stack([cx, cy])\n",
    "# logger.info(\"cell_node_lattice\", shape=cell_node_lattice.shape)\n",
    "lattice = np.transpose(cell_node_lattice, axes=(1, 2, 0))\n",
    "# logger.info(\"lattice\", shape=lattice.shape)"
   ]
  },
  {
   "cell_type": "code",
   "execution_count": 859,
   "metadata": {},
   "outputs": [
    {
     "data": {
      "text/plain": [
       "array([0.  , 0.25])"
      ]
     },
     "execution_count": 859,
     "metadata": {},
     "output_type": "execute_result"
    }
   ],
   "source": [
    "lattice[0, 1]"
   ]
  },
  {
   "cell_type": "code",
   "execution_count": 860,
   "metadata": {},
   "outputs": [
    {
     "data": {
      "text/plain": [
       "-0.010000098314851078"
      ]
     },
     "execution_count": 860,
     "metadata": {},
     "output_type": "execute_result"
    }
   ],
   "source": [
    "point = np.array([0.27, 0.01])\n",
    "cell_loc = (point / unit).astype(int)\n",
    "cell_loc[cell_loc == resolution] = resolution - 1  # clamp to resolution\n",
    "# logger.info(\"cell_loc\", shape=cell_loc.shape, value=cell_loc, point=point, unit=unit, div = point/unit)\n",
    "cell_gradients = gradients[\n",
    "    cell_loc[0] : cell_loc[0] + 2, cell_loc[1] : cell_loc[1] + 2, :\n",
    "]\n",
    "# logger.info(\"cell_gradients\", shape=cell_gradients.shape)\n",
    "cell_points = lattice[cell_loc[0] : cell_loc[0] + 2, cell_loc[1] : cell_loc[1] + 2, :]\n",
    "# logger.info(\"cell_points\", shape=cell_points.shape, value=cell_points)\n",
    "difference_vecs = cell_points - point\n",
    "# logger.info(\"difference_vecs\", shape=difference_vecs.shape)\n",
    "cell_dots = (cell_gradients * difference_vecs).sum(axis=-1)\n",
    "# logger.info(\"cell_dots\", shape=cell_dots.shape)\n",
    "weights = point - cell_points[0, 0]\n",
    "# logger.info(\"weights\", shape=weights.shape)\n",
    "x_interp = interpolate(cell_dots[0, :], cell_dots[1, :], weights[0])\n",
    "# logger.info(\"x_interp\", shape=x_interp.shape)\n",
    "y_interp = interpolate(x_interp[0], x_interp[1], weights[1])\n",
    "# logger.info(\"y_interp\", shape=y_interp.shape)\n",
    "perlin_value = y_interp\n",
    "# logger.info(\"perlin_value\", shape=perlin_value.shape)\n",
    "perlin_value"
   ]
  },
  {
   "cell_type": "code",
   "execution_count": 861,
   "metadata": {},
   "outputs": [
    {
     "data": {
      "text/plain": [
       "array([[1., 0., 1., 0., 1.],\n",
       "       [1., 0., 1., 0., 1.],\n",
       "       [1., 0., 1., 0., 1.],\n",
       "       [1., 0., 1., 0., 1.],\n",
       "       [1., 0., 1., 0., 1.]])"
      ]
     },
     "execution_count": 861,
     "metadata": {},
     "output_type": "execute_result"
    }
   ],
   "source": [
    "gradients[:, :, 1]"
   ]
  },
  {
   "cell_type": "code",
   "execution_count": null,
   "metadata": {},
   "outputs": [],
   "source": []
  },
  {
   "cell_type": "code",
   "execution_count": 862,
   "metadata": {},
   "outputs": [
    {
     "data": {
      "text/plain": [
       "array([1, 0])"
      ]
     },
     "execution_count": 862,
     "metadata": {},
     "output_type": "execute_result"
    }
   ],
   "source": [
    "cell_loc"
   ]
  },
  {
   "cell_type": "code",
   "execution_count": 863,
   "metadata": {},
   "outputs": [
    {
     "data": {
      "text/plain": [
       "array([[[0.25, 0.  ],\n",
       "        [0.25, 0.25]],\n",
       "\n",
       "       [[0.5 , 0.  ],\n",
       "        [0.5 , 0.25]]])"
      ]
     },
     "execution_count": 863,
     "metadata": {},
     "output_type": "execute_result"
    }
   ],
   "source": [
    "cell_points"
   ]
  },
  {
   "cell_type": "code",
   "execution_count": 864,
   "metadata": {},
   "outputs": [
    {
     "data": {
      "text/plain": [
       "array([[[-0.02, -0.01],\n",
       "        [-0.02,  0.24]],\n",
       "\n",
       "       [[ 0.23, -0.01],\n",
       "        [ 0.23,  0.24]]])"
      ]
     },
     "execution_count": 864,
     "metadata": {},
     "output_type": "execute_result"
    }
   ],
   "source": [
    "difference_vecs"
   ]
  },
  {
   "cell_type": "code",
   "execution_count": 865,
   "metadata": {},
   "outputs": [
    {
     "data": {
      "text/plain": [
       "(2, 2, 2)"
      ]
     },
     "execution_count": 865,
     "metadata": {},
     "output_type": "execute_result"
    }
   ],
   "source": [
    "cell_gradients.shape"
   ]
  },
  {
   "cell_type": "code",
   "execution_count": 866,
   "metadata": {},
   "outputs": [
    {
     "data": {
      "text/plain": [
       "array([[-0.01, -0.02],\n",
       "       [-0.01,  0.23]])"
      ]
     },
     "execution_count": 866,
     "metadata": {},
     "output_type": "execute_result"
    }
   ],
   "source": [
    "cell_dots"
   ]
  },
  {
   "cell_type": "code",
   "execution_count": 867,
   "metadata": {},
   "outputs": [
    {
     "data": {
      "text/plain": [
       "array([0.02, 0.01])"
      ]
     },
     "execution_count": 867,
     "metadata": {},
     "output_type": "execute_result"
    }
   ],
   "source": [
    "weights"
   ]
  },
  {
   "cell_type": "code",
   "execution_count": 868,
   "metadata": {},
   "outputs": [
    {
     "data": {
      "text/plain": [
       "-0.019980595200000017"
      ]
     },
     "execution_count": 868,
     "metadata": {},
     "output_type": "execute_result"
    }
   ],
   "source": [
    "interpolate(cell_dots[0, 0], cell_dots[1, 0], weights[0])\n",
    "interpolate(cell_dots[0, 1], cell_dots[1, 1], weights[0])"
   ]
  },
  {
   "cell_type": "code",
   "execution_count": 869,
   "metadata": {},
   "outputs": [
    {
     "data": {
      "text/plain": [
       "(array([-0.01, -0.02]),\n",
       " array([-0.01,  0.23]),\n",
       " 0.020000000000000018,\n",
       " array([-0.01      , -0.01999754]))"
      ]
     },
     "execution_count": 869,
     "metadata": {},
     "output_type": "execute_result"
    }
   ],
   "source": [
    "cell_dots[0, :], cell_dots[1, :], weights[0], interpolate(\n",
    "    cell_dots[0, :], cell_dots[1, :], weights[1]\n",
    ")"
   ]
  },
  {
   "cell_type": "code",
   "execution_count": 870,
   "metadata": {},
   "outputs": [
    {
     "data": {
      "text/plain": [
       "array([-0.01     , -0.0199806])"
      ]
     },
     "execution_count": 870,
     "metadata": {},
     "output_type": "execute_result"
    }
   ],
   "source": [
    "x_interp"
   ]
  },
  {
   "cell_type": "code",
   "execution_count": 871,
   "metadata": {},
   "outputs": [
    {
     "data": {
      "text/plain": [
       "-0.010000098314851078"
      ]
     },
     "execution_count": 871,
     "metadata": {},
     "output_type": "execute_result"
    }
   ],
   "source": [
    "y_interp"
   ]
  },
  {
   "cell_type": "code",
   "execution_count": 872,
   "metadata": {},
   "outputs": [
    {
     "data": {
      "text/plain": [
       "0.021918411000000002"
      ]
     },
     "execution_count": 872,
     "metadata": {},
     "output_type": "execute_result"
    }
   ],
   "source": [
    "np.dot(np.array([0.02, 0.01]), np.array([0.96524238, 0.26135634]))"
   ]
  },
  {
   "cell_type": "code",
   "execution_count": 873,
   "metadata": {},
   "outputs": [
    {
     "data": {
      "text/plain": [
       "array([[-0.01, -0.02],\n",
       "       [-0.01,  0.23]])"
      ]
     },
     "execution_count": 873,
     "metadata": {},
     "output_type": "execute_result"
    }
   ],
   "source": [
    "cell_dots"
   ]
  },
  {
   "cell_type": "code",
   "execution_count": 891,
   "metadata": {},
   "outputs": [],
   "source": [
    "# wrapper to print args and type hints\n",
    "class Perlin2D:\n",
    "    def __init__(self, size: int, resolution: int, seed=0):\n",
    "        np.random.seed(seed)\n",
    "        self.resolution = resolution\n",
    "        self.size = size\n",
    "        self.unit = size / resolution\n",
    "        angles = np.pi * 2 * np.random.rand(resolution + 1, resolution + 1)\n",
    "        self.gradients = np.stack([np.cos(angles), np.sin(angles)], axis=-1)\n",
    "\n",
    "        # gradients = np.array(    [\n",
    "        #                   [[0,1], [1,0], [0,1], [1,0], [0,1]],\n",
    "        #                   [[0,1], [1,0], [0,1], [1,0], [0,1]],\n",
    "        #                   [[0,1], [1,0], [0,1], [1,0], [0,1]],\n",
    "        #                   [[0,1], [1,0], [0,1], [1,0], [0,1]],\n",
    "        #                   [[0,1], [1,0], [0,1], [1,0], [0,1]],\n",
    "        #             ])\n",
    "        logger.info(\n",
    "            \"gradients\",\n",
    "            shape=self.gradients.shape,\n",
    "            norms=np.linalg.norm(self.gradients, axis=-1),\n",
    "        )\n",
    "        cy, cx = np.meshgrid(\n",
    "            np.linspace(0, 1, resolution + 1), np.linspace(0, 1, resolution + 1)\n",
    "        )\n",
    "        # logger.info(\"cy,cx,cz\", shape=(cy.shape,cx.shape,cz.shape))\n",
    "        cell_node_lattice = np.stack([cx, cy])\n",
    "        # logger.info(\"cell_node_lattice\", shape=cell_node_lattice.shape)\n",
    "        self.lattice = np.transpose(cell_node_lattice, axes=(1, 2, 0))\n",
    "        # logger.info(\"lattice\", shape=lattice.shape)\n",
    "\n",
    "    def __call__(self, point) -> float:\n",
    "        cell_loc = (point / self.unit).astype(int)\n",
    "        cell_loc[cell_loc == self.resolution] = self.resolution - 1  # clip to last cell\n",
    "        # logger.info(\"cell_loc\", shape=cell_loc.shape, value=cell_loc, point=point, unit=unit, div = point/unit)\n",
    "        cell_gradients = self.gradients[\n",
    "            cell_loc[0] : cell_loc[0] + 2, cell_loc[1] : cell_loc[1] + 2, :\n",
    "        ]\n",
    "        # logger.info(\"cell_gradients\", shape=cell_gradients.shape)\n",
    "        cell_points = self.lattice[\n",
    "            cell_loc[0] : cell_loc[0] + 2, cell_loc[1] : cell_loc[1] + 2, :\n",
    "        ]\n",
    "        # logger.info(\"cell_points\", shape=cell_points.shape, value=cell_points)\n",
    "        difference_vecs = cell_points - point\n",
    "        # logger.info(\"difference_vecs\", shape=difference_vecs.shape)\n",
    "        cell_dots = (cell_gradients * difference_vecs).sum(axis=-1)\n",
    "        # logger.info(\"cell_dots\", shape=cell_dots.shape)\n",
    "        weights = point - cell_points[0, 0]\n",
    "        # logger.info(\"weights\", shape=weights.shape)\n",
    "        x_interp = interpolate(cell_dots[0], cell_dots[1], weights[0])\n",
    "        # logger.info(\"x_interp\", shape=x_interp.shape)\n",
    "        y_interp = interpolate(x_interp[0], x_interp[1], weights[1])\n",
    "        # logger.info(\"y_interp\", shape=y_interp.shape)\n",
    "        perlin_value = y_interp\n",
    "        # logger.info(\"perlin_value\", shape=perlin_value.shape)\n",
    "        return perlin_value\n",
    "\n",
    "    def separate_call(self, point) -> float:\n",
    "        cell_loc = (point / self.unit).astype(int)\n",
    "        cell_loc[cell_loc == self.resolution] = self.resolution - 1\n",
    "\n",
    "        g00 = self.gradients[cell_loc[0], cell_loc[1]]\n",
    "        g01 = self.gradients[cell_loc[0], cell_loc[1] + 1]\n",
    "        g10 = self.gradients[cell_loc[0] + 1, cell_loc[1]]\n",
    "        g11 = self.gradients[cell_loc[0] + 1, cell_loc[1] + 1]\n",
    "\n",
    "        p00 = self.lattice[cell_loc[0], cell_loc[1]]\n",
    "        p01 = self.lattice[cell_loc[0], cell_loc[1] + 1]\n",
    "        p10 = self.lattice[cell_loc[0] + 1, cell_loc[1]]\n",
    "        p11 = self.lattice[cell_loc[0] + 1, cell_loc[1] + 1]\n",
    "\n",
    "        dot00 = np.dot(g00, point - p00)\n",
    "        dot01 = np.dot(g01, point - p01)\n",
    "        dot10 = np.dot(g10, point - p10)\n",
    "        dot11 = np.dot(g11, point - p11)\n",
    "\n",
    "        weights = point - p00\n",
    "\n",
    "        x_interp0 = interpolate(dot00, dot10, weights[0])\n",
    "        x_interp1 = interpolate(dot01, dot11, weights[0])\n",
    "\n",
    "        y_interp = interpolate(x_interp0, x_interp1, weights[1])\n",
    "\n",
    "        return y_interp"
   ]
  },
  {
   "cell_type": "code",
   "execution_count": 892,
   "metadata": {},
   "outputs": [
    {
     "data": {
      "text/plain": [
       "array([[[ 0.96217097, -0.27244636],\n",
       "        [-0.61790803, -0.78625038]],\n",
       "\n",
       "       [[-0.88771752,  0.46038855],\n",
       "        [-0.78475953, -0.61980036]]])"
      ]
     },
     "execution_count": 892,
     "metadata": {},
     "output_type": "execute_result"
    }
   ],
   "source": [
    "perlin.gradients"
   ]
  },
  {
   "cell_type": "code",
   "execution_count": 893,
   "metadata": {},
   "outputs": [
    {
     "name": "stdout",
     "output_type": "stream",
     "text": [
      "0.0\n"
     ]
    }
   ],
   "source": [
    "print(perlin(np.array([0, 0])))"
   ]
  },
  {
   "cell_type": "code",
   "execution_count": 894,
   "metadata": {},
   "outputs": [
    {
     "name": "stdout",
     "output_type": "stream",
     "text": [
      "0.0\n"
     ]
    }
   ],
   "source": [
    "print(perlin(np.array([1 / test_res, 1 / test_res])))"
   ]
  },
  {
   "cell_type": "code",
   "execution_count": 895,
   "metadata": {},
   "outputs": [
    {
     "name": "stdout",
     "output_type": "stream",
     "text": [
      "[3. 1.]\n"
     ]
    },
    {
     "ename": "IndexError",
     "evalue": "index 0 is out of bounds for axis 0 with size 0",
     "output_type": "error",
     "traceback": [
      "\u001b[0;31m---------------------------------------------------------------------------\u001b[0m",
      "\u001b[0;31mIndexError\u001b[0m                                Traceback (most recent call last)",
      "Cell \u001b[0;32mIn[895], line 3\u001b[0m\n\u001b[1;32m      1\u001b[0m test_point \u001b[38;5;241m=\u001b[39m np\u001b[38;5;241m.\u001b[39marray([\u001b[38;5;241m3\u001b[39m\u001b[38;5;241m/\u001b[39mtest_res, \u001b[38;5;241m1\u001b[39m\u001b[38;5;241m/\u001b[39mtest_res])\n\u001b[1;32m      2\u001b[0m \u001b[38;5;28mprint\u001b[39m(test_point)\n\u001b[0;32m----> 3\u001b[0m \u001b[38;5;28mprint\u001b[39m(\u001b[43mperlin\u001b[49m\u001b[43m(\u001b[49m\u001b[43mtest_point\u001b[49m\u001b[43m)\u001b[49m)\n",
      "Cell \u001b[0;32mIn[883], line 37\u001b[0m, in \u001b[0;36mPerlin2D.__call__\u001b[0;34m(self, point)\u001b[0m\n\u001b[1;32m     35\u001b[0m cell_dots \u001b[38;5;241m=\u001b[39m (cell_gradients \u001b[38;5;241m*\u001b[39m difference_vecs)\u001b[38;5;241m.\u001b[39msum(axis\u001b[38;5;241m=\u001b[39m\u001b[38;5;241m-\u001b[39m\u001b[38;5;241m1\u001b[39m)\n\u001b[1;32m     36\u001b[0m \u001b[38;5;66;03m# logger.info(\"cell_dots\", shape=cell_dots.shape)\u001b[39;00m\n\u001b[0;32m---> 37\u001b[0m weights \u001b[38;5;241m=\u001b[39m point \u001b[38;5;241m-\u001b[39m \u001b[43mcell_points\u001b[49m\u001b[43m[\u001b[49m\u001b[38;5;241;43m0\u001b[39;49m\u001b[43m,\u001b[49m\u001b[38;5;241;43m0\u001b[39;49m\u001b[43m]\u001b[49m\n\u001b[1;32m     38\u001b[0m \u001b[38;5;66;03m# logger.info(\"weights\", shape=weights.shape)\u001b[39;00m\n\u001b[1;32m     39\u001b[0m x_interp \u001b[38;5;241m=\u001b[39m interpolate(cell_dots[\u001b[38;5;241m0\u001b[39m], cell_dots[\u001b[38;5;241m1\u001b[39m], weights[\u001b[38;5;241m0\u001b[39m])\n",
      "\u001b[0;31mIndexError\u001b[0m: index 0 is out of bounds for axis 0 with size 0"
     ]
    }
   ],
   "source": [
    "test_point = np.array([3 / test_res, 1 / test_res])\n",
    "print(test_point)\n",
    "print(perlin(test_point))"
   ]
  },
  {
   "cell_type": "code",
   "execution_count": 896,
   "metadata": {},
   "outputs": [
    {
     "data": {
      "text/plain": [
       "array([[[ 0.96217097, -0.27244636],\n",
       "        [-0.61790803, -0.78625038]],\n",
       "\n",
       "       [[-0.88771752,  0.46038855],\n",
       "        [-0.78475953, -0.61980036]]])"
      ]
     },
     "execution_count": 896,
     "metadata": {},
     "output_type": "execute_result"
    }
   ],
   "source": [
    "perlin.gradients"
   ]
  },
  {
   "cell_type": "code",
   "execution_count": 919,
   "metadata": {},
   "outputs": [
    {
     "name": "stdout",
     "output_type": "stream",
     "text": [
      "\u001b[2m2024-06-06 16:43:10\u001b[0m [\u001b[32m\u001b[1minfo     \u001b[0m] \u001b[1mgradients                     \u001b[0m \u001b[36mnorms\u001b[0m=\u001b[35marray([[1., 1.],\n",
      "       [1., 1.]])\u001b[0m \u001b[36mshape\u001b[0m=\u001b[35m(2, 2, 2)\u001b[0m\n"
     ]
    },
    {
     "data": {
      "text/plain": [
       "<matplotlib.image.AxesImage at 0x13a7522d0>"
      ]
     },
     "execution_count": 919,
     "metadata": {},
     "output_type": "execute_result"
    },
    {
     "data": {
      "image/png": "[encoded data removed]",
      "text/plain": [
       "<Figure size 640x480 with 1 Axes>"
      ]
     },
     "metadata": {},
     "output_type": "display_data"
    }
   ],
   "source": [
    "import matplotlib.pyplot as plt\n",
    "\n",
    "\n",
    "test_res = 1\n",
    "test_size = 1\n",
    "sample_res = 50\n",
    "perlin = Perlin2D(size=test_size, resolution=test_res, seed=3)\n",
    "\n",
    "cx, cy = np.meshgrid(\n",
    "    np.linspace(0, test_size, sample_res), np.linspace(0, test_size, sample_res)\n",
    ")\n",
    "\n",
    "sample_grid = np.stack([cx, cy]).transpose(1, 2, 0)\n",
    "sample_grid.shape\n",
    "perlin_grid = np.zeros((sample_res, sample_res))\n",
    "for i in range(sample_res):\n",
    "    for j in range(sample_res):\n",
    "        perlin_grid[i, j] = perlin(sample_grid[i, j])\n",
    "\n",
    "\n",
    "plt.imshow(perlin_grid, origin=\"lower\", cmap=\"seismic\", vmin=-1, vmax=1)"
   ]
  },
  {
   "cell_type": "markdown",
   "metadata": {},
   "source": [
    "## Transpiled from c wiki page perlin\n",
    "\n",
    "from https://en.wikipedia.org/wiki/Perlin_noise"
   ]
  },
  {
   "cell_type": "code",
   "execution_count": null,
   "metadata": {},
   "outputs": [],
   "source": [
    "import math\n",
    "\n",
    "\n",
    "def interpolate(a0, a1, w):\n",
    "    \"\"\"Function to linearly interpolate between a0 and a1\n",
    "    Weight w should be in the range [0.0, 1.0]\n",
    "    \"\"\"\n",
    "    return (a1 - a0) * ((w * (w * 6.0 - 15.0) + 10.0) * w * w * w) + a0\n",
    "\n",
    "\n",
    "class Vector2:\n",
    "    def __init__(self, x, y):\n",
    "        self.x = x\n",
    "        self.y = y\n",
    "\n",
    "\n",
    "def random_gradient(ix, iy):\n",
    "    \"\"\"Create pseudorandom direction vector\"\"\"\n",
    "    w = 8 * 32\n",
    "    s = w // 2  # rotation width\n",
    "    a = ix\n",
    "    b = iy\n",
    "    a *= 3284157443\n",
    "    b ^= a << s | a >> w - s\n",
    "    b *= 1911520717\n",
    "    a ^= b << s | b >> w - s\n",
    "    a *= 2048419325\n",
    "    random = a * (3.14159265 / (2 ^ 31 - 1))  # in [0, 2*Pi]\n",
    "    return Vector2(math.cos(random), math.sin(random))\n",
    "\n",
    "\n",
    "def dot_grid_gradient(ix, iy, x, y):\n",
    "    \"\"\"Computes the dot product of the distance and gradient vectors.\"\"\"\n",
    "    gradient = random_gradient(ix, iy)\n",
    "\n",
    "    # Compute the distance vector\n",
    "    dx = x - float(ix)\n",
    "    dy = y - float(iy)\n",
    "\n",
    "    # Compute the dot-product\n",
    "    return dx * gradient.x + dy * gradient.y\n",
    "\n",
    "\n",
    "def perlin_wiki(x, y):\n",
    "    \"\"\"Compute Perlin noise at coordinates x, y\"\"\"\n",
    "    # Determine grid cell coordinates\n",
    "    x0 = int(math.floor(x))\n",
    "    x1 = x0 + 1\n",
    "    y0 = int(math.floor(y))\n",
    "    y1 = y0 + 1\n",
    "\n",
    "    # Determine interpolation weights\n",
    "    sx = x - float(x0)\n",
    "    sy = y - float(y0)\n",
    "\n",
    "    # Interpolate between grid point gradients\n",
    "    n0 = dot_grid_gradient(x0, y0, x, y)\n",
    "    n1 = dot_grid_gradient(x1, y0, x, y)\n",
    "    ix0 = interpolate(n0, n1, sx)\n",
    "\n",
    "    n0 = dot_grid_gradient(x0, y1, x, y)\n",
    "    n1 = dot_grid_gradient(x1, y1, x, y)\n",
    "    ix1 = interpolate(n0, n1, sx)\n",
    "\n",
    "    value = interpolate(ix0, ix1, sy)\n",
    "    return value  # Will return in range -1 to 1. To make it in range 0 to 1, multiply by 0.5 and add 0.5"
   ]
  },
  {
   "cell_type": "code",
   "execution_count": 823,
   "metadata": {},
   "outputs": [
    {
     "data": {
      "text/plain": [
       "<matplotlib.image.AxesImage at 0x12fc96350>"
      ]
     },
     "execution_count": 823,
     "metadata": {},
     "output_type": "execute_result"
    },
    {
     "data": {
      "image/png": "[encoded data removed]",
      "text/plain": [
       "<Figure size 640x480 with 1 Axes>"
      ]
     },
     "metadata": {},
     "output_type": "display_data"
    }
   ],
   "source": [
    "sample_res = 50\n",
    "cx, cy = np.meshgrid(np.linspace(0, 1, sample_res), np.linspace(0, 1, sample_res))\n",
    "\n",
    "sample_grid = np.stack([cx, cy]).transpose(1, 2, 0)\n",
    "sample_grid.shape\n",
    "\n",
    "perlin_grid = np.zeros((sample_res, sample_res))\n",
    "for i in range(sample_res):\n",
    "    for j in range(sample_res):\n",
    "        perlin_grid[i, j] = perlin_wiki(*sample_grid[i, j])\n",
    "\n",
    "import matplotlib.pyplot as plt\n",
    "\n",
    "plt.imshow(perlin_grid, origin=\"lower\", cmap=\"seismic\", vmin=-1, vmax=1)"
   ]
  },
  {
   "cell_type": "markdown",
   "metadata": {},
   "source": [
    "## perlin_numpy package example\n",
    "\n",
    "from blog https://pvigier.github.io/2018/06/13/perlin-noise-numpy.html\n",
    "\n",
    "by the author of https://github.com/pvigier/perlin-numpy/tree/master?tab=readme-ov-file"
   ]
  },
  {
   "cell_type": "code",
   "execution_count": 789,
   "metadata": {},
   "outputs": [],
   "source": [
    "def generate_perlin_noise_2d(shape, res):\n",
    "    def f(t):\n",
    "        return 6 * t**5 - 15 * t**4 + 10 * t**3\n",
    "\n",
    "    delta = (res[0] / shape[0], res[1] / shape[1])\n",
    "    d = (shape[0] // res[0], shape[1] // res[1])\n",
    "    grid = np.mgrid[0 : res[0] : delta[0], 0 : res[1] : delta[1]].transpose(1, 2, 0) % 1\n",
    "    logger.info(\"grid\", shape=grid.shape, delta=delta, d=d, first_3=grid[:3, :3])\n",
    "\n",
    "    # Gradients\n",
    "    angles = 2 * np.pi * np.random.rand(res[0] + 1, res[1] + 1)\n",
    "    gradients = np.dstack((np.cos(angles), np.sin(angles)))\n",
    "    logger.info(\"gradients\", shape=gradients.shape)\n",
    "    g00 = gradients[0:-1, 0:-1].repeat(d[0], 0).repeat(d[1], 1)\n",
    "    logger.info(\n",
    "        \"g00\",\n",
    "        shape=g00.shape,\n",
    "        grad_slice=gradients[0:-1, 0:-1].shape,\n",
    "        first_reapeat=gradients[0:-1, 0:-1].repeat(d[0], 0).shape,\n",
    "        second_repeat=gradients[0:-1, 0:-1].repeat(d[0], 0).repeat(d[1], 1).shape,\n",
    "    )\n",
    "    g10 = gradients[1:, 0:-1].repeat(d[0], 0).repeat(d[1], 1)\n",
    "    g01 = gradients[0:-1, 1:].repeat(d[0], 0).repeat(d[1], 1)\n",
    "    g11 = gradients[1:, 1:].repeat(d[0], 0).repeat(d[1], 1)\n",
    "    # Ramps\n",
    "    n00 = np.sum(grid * g00, 2)\n",
    "    n10 = np.sum(np.dstack((grid[:, :, 0] - 1, grid[:, :, 1])) * g10, 2)\n",
    "    n01 = np.sum(np.dstack((grid[:, :, 0], grid[:, :, 1] - 1)) * g01, 2)\n",
    "    n11 = np.sum(np.dstack((grid[:, :, 0] - 1, grid[:, :, 1] - 1)) * g11, 2)\n",
    "    # Interpolation\n",
    "    t = f(grid)\n",
    "    n0 = n00 * (1 - t[:, :, 0]) + t[:, :, 0] * n10\n",
    "    n1 = n01 * (1 - t[:, :, 0]) + t[:, :, 0] * n11\n",
    "    return np.sqrt(2) * ((1 - t[:, :, 1]) * n0 + t[:, :, 1] * n1)"
   ]
  },
  {
   "cell_type": "code",
   "execution_count": 822,
   "metadata": {},
   "outputs": [
    {
     "name": "stdout",
     "output_type": "stream",
     "text": [
      "\u001b[2m2024-06-06 15:25:17\u001b[0m [\u001b[32m\u001b[1minfo     \u001b[0m] \u001b[1mgrid                          \u001b[0m \u001b[36md\u001b[0m=\u001b[35m(100, 100)\u001b[0m \u001b[36mdelta\u001b[0m=\u001b[35m(0.01, 0.01)\u001b[0m \u001b[36mfirst_3\u001b[0m=\u001b[35marray([[[0.  , 0.  ],\n",
      "        [0.  , 0.01],\n",
      "        [0.  , 0.02]],\n",
      "\n",
      "       [[0.01, 0.  ],\n",
      "        [0.01, 0.01],\n",
      "        [0.01, 0.02]],\n",
      "\n",
      "       [[0.02, 0.  ],\n",
      "        [0.02, 0.01],\n",
      "        [0.02, 0.02]]])\u001b[0m \u001b[36mshape\u001b[0m=\u001b[35m(100, 100, 2)\u001b[0m\n",
      "\u001b[2m2024-06-06 15:25:17\u001b[0m [\u001b[32m\u001b[1minfo     \u001b[0m] \u001b[1mgradients                     \u001b[0m \u001b[36mshape\u001b[0m=\u001b[35m(2, 2, 2)\u001b[0m\n",
      "\u001b[2m2024-06-06 15:25:17\u001b[0m [\u001b[32m\u001b[1minfo     \u001b[0m] \u001b[1mg00                           \u001b[0m \u001b[36mfirst_reapeat\u001b[0m=\u001b[35m(100, 1, 2)\u001b[0m \u001b[36mgrad_slice\u001b[0m=\u001b[35m(1, 1, 2)\u001b[0m \u001b[36msecond_repeat\u001b[0m=\u001b[35m(100, 100, 2)\u001b[0m \u001b[36mshape\u001b[0m=\u001b[35m(100, 100, 2)\u001b[0m\n"
     ]
    },
    {
     "data": {
      "text/plain": [
       "<matplotlib.colorbar.Colorbar at 0x12fb93990>"
      ]
     },
     "execution_count": 822,
     "metadata": {},
     "output_type": "execute_result"
    },
    {
     "data": {
      "image/png": "[encoded data removed]",
      "text/plain": [
       "<Figure size 640x480 with 2 Axes>"
      ]
     },
     "metadata": {},
     "output_type": "display_data"
    }
   ],
   "source": [
    "np.random.seed(0)\n",
    "noise = generate_perlin_noise_2d(shape=(100, 100), res=(1, 1))\n",
    "plt.imshow(noise, origin=\"lower\", cmap=\"seismic\", vmin=-1, vmax=1)\n",
    "plt.colorbar()"
   ]
  },
  {
   "cell_type": "code",
   "execution_count": null,
   "metadata": {},
   "outputs": [],
   "source": []
  },
  {
   "cell_type": "markdown",
   "metadata": {},
   "source": [
    "# field of stems"
   ]
  },
  {
   "cell_type": "code",
   "execution_count": 920,
   "metadata": {},
   "outputs": [
    {
     "name": "stdout",
     "output_type": "stream",
     "text": [
      "\u001b[2m2024-06-06 16:43:35\u001b[0m [\u001b[32m\u001b[1minfo     \u001b[0m] \u001b[1mgradients                     \u001b[0m \u001b[36mnorms\u001b[0m=\u001b[35marray([[1., 1.],\n",
      "       [1., 1.]])\u001b[0m \u001b[36mshape\u001b[0m=\u001b[35m(2, 2, 2)\u001b[0m\n"
     ]
    }
   ],
   "source": [
    "perlin = Perlin2D(size=1, resolution=1, seed=3)"
   ]
  },
  {
   "cell_type": "code",
   "execution_count": 948,
   "metadata": {},
   "outputs": [
    {
     "data": {
      "text/plain": [
       "(50, 50)"
      ]
     },
     "execution_count": 948,
     "metadata": {},
     "output_type": "execute_result"
    }
   ],
   "source": [
    "np.meshgrid(np.linspace(0, 1, 50), np.linspace(0, 1, 50))[0]"
   ]
  },
  {
   "cell_type": "code",
   "execution_count": 951,
   "metadata": {},
   "outputs": [
    {
     "name": "stdout",
     "output_type": "stream",
     "text": [
      "\u001b[2m2024-06-06 16:52:51\u001b[0m [\u001b[32m\u001b[1minfo     \u001b[0m] \u001b[1mp_vals                        \u001b[0m \u001b[36mmax\u001b[0m=\u001b[35m0.21507061384136225\u001b[0m \u001b[36mmean\u001b[0m=\u001b[35m-0.11716399371545012\u001b[0m \u001b[36mmin\u001b[0m=\u001b[35m-0.3430687173947645\u001b[0m \u001b[36mstd\u001b[0m=\u001b[35m0.15000041361683203\u001b[0m\n"
     ]
    },
    {
     "data": {
      "text/plain": [
       "(280, 280)"
      ]
     },
     "execution_count": 951,
     "metadata": {},
     "output_type": "execute_result"
    }
   ],
   "source": [
    "points = np.random.rand(100, 2)\n",
    "points = np.array(\n",
    "    [[x, y] for x, y in itertools.product(np.linspace(0, 1, 20), np.linspace(0, 1, 20))]\n",
    ")\n",
    "p_vals = [perlin(p) for p in points]\n",
    "logger.info(\n",
    "    \"p_vals\", min=min(p_vals), max=max(p_vals), mean=np.mean(p_vals), std=np.std(p_vals)\n",
    ")\n",
    "used_points = np.array([p for p, v in zip(points, p_vals) if v > np.mean(p_vals) - 0.1])\n",
    "used_p_vals = [v for v in p_vals if v > np.mean(p_vals) - 0.1]\n",
    "len(used_points), len(used_p_vals)"
   ]
  },
  {
   "cell_type": "code",
   "execution_count": 955,
   "metadata": {},
   "outputs": [
    {
     "name": "stdout",
     "output_type": "stream",
     "text": [
      "Calling rotate_unison with args: [EdgeCollection at: object.__repr__(self)\n",
      "self.edges.shape=(280, 2, 3)\n",
      "self.centers.mean(axis=0)=array([ 0.41390977,  0.44868421, -0.19033471])self.lengths (min, mean, max) : (0.00, 0.93, 1.74)] and kwargs: {'p0': array([[0.5, 0.5, 0. ]]), 'normal': array([0, 0, 1]), 'theta': 0.19634954084936207}\n",
      "Calling rotate_unison with args: [EdgeCollection at: object.__repr__(self)\n",
      "self.edges.shape=(280, 2, 3)\n",
      "self.centers.mean(axis=0)=array([ 0.40555276,  0.4664656 , -0.19033471])self.lengths (min, mean, max) : (0.00, 0.93, 1.74)] and kwargs: {'p0': array([[0.5, 0.5, 0. ]]), 'normal': array([1, 0, 0]), 'theta': -0.09817477042468103}\n"
     ]
    },
    {
     "data": {
      "image/png": "[encoded data removed]",
      "text/plain": [
       "<IPython.core.display.Image object>"
      ]
     },
     "execution_count": 955,
     "metadata": {},
     "output_type": "execute_result"
    }
   ],
   "source": [
    "stems = EdgeCollection(\n",
    "    np.array([[[*p, v * 8], [*p, 0]] for p, v in zip(used_points, used_p_vals)])\n",
    ")\n",
    "stems = (\n",
    "    stems.rotate_unison(\n",
    "        p0=[[0.5, 0.5, 0]], normal=[0, 0, 1], theta=np.pi / 16\n",
    "    ).rotate_unison(p0=[[0.5, 0.5, 0]], normal=[1, 0, 0], theta=-np.pi / 32)\n",
    "    # .rotate_unison(p0=[[0.5,0.5,0]], normal=[1,0,0],theta=np.pi)\n",
    ")\n",
    "page = draw.quick_draw_edges(\n",
    "    stems.edges,\n",
    "    v=False,\n",
    "    image_size=100,\n",
    "    edge_style=style.simple_edge(style.wildflower_greens[2]),\n",
    "    unit_scale=True,\n",
    ")\n",
    "Image(page.image(kind=\"rgba\", ppi=60).png())"
   ]
  },
  {
   "cell_type": "code",
   "execution_count": null,
   "metadata": {},
   "outputs": [],
   "source": []
  }
 ],
 "metadata": {
  "kernelspec": {
   "display_name": ".venv",
   "language": "python",
   "name": "python3"
  },
  "language_info": {
   "codemirror_mode": {
    "name": "ipython",
    "version": 3
   },
   "file_extension": ".py",
   "mimetype": "text/x-python",
   "name": "python",
   "nbconvert_exporter": "python",
   "pygments_lexer": "ipython3",
   "version": "3.11.4"
  }
 },
 "nbformat": 4,
 "nbformat_minor": 2
}
