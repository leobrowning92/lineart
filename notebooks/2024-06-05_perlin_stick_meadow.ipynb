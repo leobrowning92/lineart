{
 "cells": [
  {
   "cell_type": "markdown",
   "metadata": {},
   "source": [
    "# Stick flowers experiment"
   ]
  },
  {
   "cell_type": "code",
   "execution_count": 1,
   "metadata": {},
   "outputs": [],
   "source": [
    "%load_ext autoreload\n",
    "%autoreload 2"
   ]
  },
  {
   "cell_type": "code",
   "execution_count": 2,
   "metadata": {},
   "outputs": [],
   "source": [
    "import itertools\n",
    "import numpy as np\n",
    "from IPython.display import Image\n",
    "from lineart import style, transform, draw\n",
    "from lineart.primatives import EdgeCollection\n",
    "import structlog\n",
    "from lineart.decorators import np_args\n",
    "\n",
    "logger = structlog.get_logger()"
   ]
  },
  {
   "cell_type": "markdown",
   "metadata": {},
   "source": [
    "# Perlin experiments"
   ]
  },
  {
   "cell_type": "markdown",
   "metadata": {},
   "source": [
    "Note, as things stand both my numpy perlin and the one from the wiki seem to only work with a periodicity of 1 on a 2d plane of size 1, while the numpy perlin generates a grid, while i want to sample at an arbitrary point. "
   ]
  },
  {
   "cell_type": "markdown",
   "metadata": {},
   "source": [
    "## my numpy perlin"
   ]
  },
  {
   "cell_type": "code",
   "execution_count": 3,
   "metadata": {},
   "outputs": [],
   "source": [
    "def interpolate(a0, a1, w):\n",
    "    return (a1 - a0) * ((w * (w * 6.0 - 15.0) + 10.0) * w * w * w) + a0"
   ]
  },
  {
   "cell_type": "code",
   "execution_count": 4,
   "metadata": {},
   "outputs": [],
   "source": [
    "resolution = 4\n",
    "size = 1\n",
    "unit = size / resolution\n",
    "gradients = np.random.rand(resolution + 1, resolution + 1, 2)\n",
    "gradients = np.array(\n",
    "    [\n",
    "        [[0, 1], [1, 0], [0, 1], [1, 0], [0, 1]],\n",
    "        [[0, 1], [1, 0], [0, 1], [1, 0], [0, 1]],\n",
    "        [[0, 1], [1, 0], [0, 1], [1, 0], [0, 1]],\n",
    "        [[0, 1], [1, 0], [0, 1], [1, 0], [0, 1]],\n",
    "        [[0, 1], [1, 0], [0, 1], [1, 0], [0, 1]],\n",
    "    ]\n",
    ")\n",
    "# logger.info(\"gradients\", shape=gradients.shape)\n",
    "gradients = gradients / np.linalg.norm(gradients, axis=-1).reshape(\n",
    "    resolution + 1, resolution + 1, 1\n",
    ")\n",
    "# logger.info(\"gradients\", shape=gradients.shape)\n",
    "cy, cx = np.meshgrid(\n",
    "    np.linspace(0, 1, resolution + 1), np.linspace(0, 1, resolution + 1)\n",
    ")\n",
    "# logger.info(\"cy,cx,cz\", shape=(cy.shape,cx.shape,cz.shape))\n",
    "cell_node_lattice = np.stack([cx, cy])\n",
    "# logger.info(\"cell_node_lattice\", shape=cell_node_lattice.shape)\n",
    "lattice = np.transpose(cell_node_lattice, axes=(1, 2, 0))\n",
    "# logger.info(\"lattice\", shape=lattice.shape)"
   ]
  },
  {
   "cell_type": "code",
   "execution_count": 5,
   "metadata": {},
   "outputs": [
    {
     "data": {
      "text/plain": [
       "array([0.  , 0.25])"
      ]
     },
     "execution_count": 5,
     "metadata": {},
     "output_type": "execute_result"
    }
   ],
   "source": [
    "lattice[0, 1]"
   ]
  },
  {
   "cell_type": "code",
   "execution_count": 6,
   "metadata": {},
   "outputs": [
    {
     "data": {
      "text/plain": [
       "-0.010000098314851078"
      ]
     },
     "execution_count": 6,
     "metadata": {},
     "output_type": "execute_result"
    }
   ],
   "source": [
    "point = np.array([0.27, 0.01])\n",
    "cell_loc = (point / unit).astype(int)\n",
    "cell_loc[cell_loc == resolution] = resolution - 1  # clamp to resolution\n",
    "# logger.info(\"cell_loc\", shape=cell_loc.shape, value=cell_loc, point=point, unit=unit, div = point/unit)\n",
    "cell_gradients = gradients[\n",
    "    cell_loc[0] : cell_loc[0] + 2, cell_loc[1] : cell_loc[1] + 2, :\n",
    "]\n",
    "# logger.info(\"cell_gradients\", shape=cell_gradients.shape)\n",
    "cell_points = lattice[cell_loc[0] : cell_loc[0] + 2, cell_loc[1] : cell_loc[1] + 2, :]\n",
    "# logger.info(\"cell_points\", shape=cell_points.shape, value=cell_points)\n",
    "difference_vecs = cell_points - point\n",
    "# logger.info(\"difference_vecs\", shape=difference_vecs.shape)\n",
    "cell_dots = (cell_gradients * difference_vecs).sum(axis=-1)\n",
    "# logger.info(\"cell_dots\", shape=cell_dots.shape)\n",
    "weights = point - cell_points[0, 0]\n",
    "# logger.info(\"weights\", shape=weights.shape)\n",
    "x_interp = interpolate(cell_dots[0, :], cell_dots[1, :], weights[0])\n",
    "# logger.info(\"x_interp\", shape=x_interp.shape)\n",
    "y_interp = interpolate(x_interp[0], x_interp[1], weights[1])\n",
    "# logger.info(\"y_interp\", shape=y_interp.shape)\n",
    "perlin_value = y_interp\n",
    "# logger.info(\"perlin_value\", shape=perlin_value.shape)\n",
    "perlin_value"
   ]
  },
  {
   "cell_type": "code",
   "execution_count": 7,
   "metadata": {},
   "outputs": [
    {
     "data": {
      "text/plain": [
       "array([[1., 0., 1., 0., 1.],\n",
       "       [1., 0., 1., 0., 1.],\n",
       "       [1., 0., 1., 0., 1.],\n",
       "       [1., 0., 1., 0., 1.],\n",
       "       [1., 0., 1., 0., 1.]])"
      ]
     },
     "execution_count": 7,
     "metadata": {},
     "output_type": "execute_result"
    }
   ],
   "source": [
    "gradients[:, :, 1]"
   ]
  },
  {
   "cell_type": "code",
   "execution_count": null,
   "metadata": {},
   "outputs": [],
   "source": []
  },
  {
   "cell_type": "code",
   "execution_count": 8,
   "metadata": {},
   "outputs": [
    {
     "data": {
      "text/plain": [
       "array([1, 0])"
      ]
     },
     "execution_count": 8,
     "metadata": {},
     "output_type": "execute_result"
    }
   ],
   "source": [
    "cell_loc"
   ]
  },
  {
   "cell_type": "code",
   "execution_count": 9,
   "metadata": {},
   "outputs": [
    {
     "data": {
      "text/plain": [
       "array([[[0.25, 0.  ],\n",
       "        [0.25, 0.25]],\n",
       "\n",
       "       [[0.5 , 0.  ],\n",
       "        [0.5 , 0.25]]])"
      ]
     },
     "execution_count": 9,
     "metadata": {},
     "output_type": "execute_result"
    }
   ],
   "source": [
    "cell_points"
   ]
  },
  {
   "cell_type": "code",
   "execution_count": 10,
   "metadata": {},
   "outputs": [
    {
     "data": {
      "text/plain": [
       "array([[[-0.02, -0.01],\n",
       "        [-0.02,  0.24]],\n",
       "\n",
       "       [[ 0.23, -0.01],\n",
       "        [ 0.23,  0.24]]])"
      ]
     },
     "execution_count": 10,
     "metadata": {},
     "output_type": "execute_result"
    }
   ],
   "source": [
    "difference_vecs"
   ]
  },
  {
   "cell_type": "code",
   "execution_count": 11,
   "metadata": {},
   "outputs": [
    {
     "data": {
      "text/plain": [
       "(2, 2, 2)"
      ]
     },
     "execution_count": 11,
     "metadata": {},
     "output_type": "execute_result"
    }
   ],
   "source": [
    "cell_gradients.shape"
   ]
  },
  {
   "cell_type": "code",
   "execution_count": 12,
   "metadata": {},
   "outputs": [
    {
     "data": {
      "text/plain": [
       "array([[-0.01, -0.02],\n",
       "       [-0.01,  0.23]])"
      ]
     },
     "execution_count": 12,
     "metadata": {},
     "output_type": "execute_result"
    }
   ],
   "source": [
    "cell_dots"
   ]
  },
  {
   "cell_type": "code",
   "execution_count": 13,
   "metadata": {},
   "outputs": [
    {
     "data": {
      "text/plain": [
       "array([0.02, 0.01])"
      ]
     },
     "execution_count": 13,
     "metadata": {},
     "output_type": "execute_result"
    }
   ],
   "source": [
    "weights"
   ]
  },
  {
   "cell_type": "code",
   "execution_count": 14,
   "metadata": {},
   "outputs": [
    {
     "data": {
      "text/plain": [
       "-0.019980595200000017"
      ]
     },
     "execution_count": 14,
     "metadata": {},
     "output_type": "execute_result"
    }
   ],
   "source": [
    "interpolate(cell_dots[0, 0], cell_dots[1, 0], weights[0])\n",
    "interpolate(cell_dots[0, 1], cell_dots[1, 1], weights[0])"
   ]
  },
  {
   "cell_type": "code",
   "execution_count": 15,
   "metadata": {},
   "outputs": [
    {
     "data": {
      "text/plain": [
       "(array([-0.01, -0.02]),\n",
       " array([-0.01,  0.23]),\n",
       " 0.020000000000000018,\n",
       " array([-0.01      , -0.01999754]))"
      ]
     },
     "execution_count": 15,
     "metadata": {},
     "output_type": "execute_result"
    }
   ],
   "source": [
    "cell_dots[0, :], cell_dots[1, :], weights[0], interpolate(\n",
    "    cell_dots[0, :], cell_dots[1, :], weights[1]\n",
    ")"
   ]
  },
  {
   "cell_type": "code",
   "execution_count": 16,
   "metadata": {},
   "outputs": [
    {
     "data": {
      "text/plain": [
       "array([-0.01     , -0.0199806])"
      ]
     },
     "execution_count": 16,
     "metadata": {},
     "output_type": "execute_result"
    }
   ],
   "source": [
    "x_interp"
   ]
  },
  {
   "cell_type": "code",
   "execution_count": 17,
   "metadata": {},
   "outputs": [
    {
     "data": {
      "text/plain": [
       "-0.010000098314851078"
      ]
     },
     "execution_count": 17,
     "metadata": {},
     "output_type": "execute_result"
    }
   ],
   "source": [
    "y_interp"
   ]
  },
  {
   "cell_type": "code",
   "execution_count": 18,
   "metadata": {},
   "outputs": [
    {
     "data": {
      "text/plain": [
       "0.021918411000000002"
      ]
     },
     "execution_count": 18,
     "metadata": {},
     "output_type": "execute_result"
    }
   ],
   "source": [
    "np.dot(np.array([0.02, 0.01]), np.array([0.96524238, 0.26135634]))"
   ]
  },
  {
   "cell_type": "code",
   "execution_count": 19,
   "metadata": {},
   "outputs": [
    {
     "data": {
      "text/plain": [
       "array([[-0.01, -0.02],\n",
       "       [-0.01,  0.23]])"
      ]
     },
     "execution_count": 19,
     "metadata": {},
     "output_type": "execute_result"
    }
   ],
   "source": [
    "cell_dots"
   ]
  },
  {
   "cell_type": "code",
   "execution_count": 54,
   "metadata": {},
   "outputs": [],
   "source": [
    "# wrapper to print args and type hints\n",
    "class Perlin2D:\n",
    "    def __init__(self, size: int, resolution: int, seed=0):\n",
    "        np.random.seed(seed)\n",
    "        self.resolution = resolution\n",
    "        self.size = size\n",
    "        self.unit = size / resolution\n",
    "        angles = np.pi * 2 * np.random.rand(resolution + 1, resolution + 1)\n",
    "        self.gradients = np.stack([np.cos(angles), np.sin(angles)], axis=-1)\n",
    "\n",
    "        # gradients = np.array(    [\n",
    "        #                   [[0,1], [1,0], [0,1], [1,0], [0,1]],\n",
    "        #                   [[0,1], [1,0], [0,1], [1,0], [0,1]],\n",
    "        #                   [[0,1], [1,0], [0,1], [1,0], [0,1]],\n",
    "        #                   [[0,1], [1,0], [0,1], [1,0], [0,1]],\n",
    "        #                   [[0,1], [1,0], [0,1], [1,0], [0,1]],\n",
    "        #             ])\n",
    "        # logger.info(\n",
    "        #     \"gradients\",\n",
    "        #     shape=self.gradients.shape,\n",
    "        #     norms=np.linalg.norm(self.gradients, axis=-1),\n",
    "        # )\n",
    "        cy, cx = np.meshgrid(\n",
    "            np.linspace(0, 1, resolution + 1), np.linspace(0, 1, resolution + 1)\n",
    "        )\n",
    "        # logger.info(\"cy,cx,cz\", shape=(cy.shape,cx.shape,cz.shape))\n",
    "        cell_node_lattice = np.stack([cx, cy])\n",
    "        # logger.info(\"cell_node_lattice\", shape=cell_node_lattice.shape)\n",
    "        self.lattice = np.transpose(cell_node_lattice, axes=(1, 2, 0))\n",
    "        # logger.info(\"lattice\", shape=lattice.shape)\n",
    "\n",
    "    def __call__(self, point) -> float:\n",
    "        cell_loc = (point / self.unit).astype(int)\n",
    "        cell_loc[cell_loc == self.resolution] = self.resolution - 1  # clip to last cell\n",
    "        # logger.info(\"cell_loc\", shape=cell_loc.shape, value=cell_loc, point=point, unit=unit, div = point/unit)\n",
    "        cell_gradients = self.gradients[\n",
    "            cell_loc[0] : cell_loc[0] + 2, cell_loc[1] : cell_loc[1] + 2, :\n",
    "        ]\n",
    "        # logger.info(\"cell_gradients\", shape=cell_gradients.shape)\n",
    "        cell_points = self.lattice[\n",
    "            cell_loc[0] : cell_loc[0] + 2, cell_loc[1] : cell_loc[1] + 2, :\n",
    "        ]\n",
    "        # logger.info(\"cell_points\", shape=cell_points.shape, value=cell_points)\n",
    "        difference_vecs = cell_points - point\n",
    "        # logger.info(\"difference_vecs\", shape=difference_vecs.shape)\n",
    "        cell_dots = (cell_gradients * difference_vecs).sum(axis=-1)\n",
    "        # logger.info(\"cell_dots\", shape=cell_dots.shape)\n",
    "        weights = point - cell_points[0, 0]\n",
    "        # logger.info(\"weights\", shape=weights.shape)\n",
    "        x_interp = interpolate(cell_dots[0], cell_dots[1], weights[0])\n",
    "        # logger.info(\"x_interp\", shape=x_interp.shape)\n",
    "        y_interp = interpolate(x_interp[0], x_interp[1], weights[1])\n",
    "        # logger.info(\"y_interp\", shape=y_interp.shape)\n",
    "        perlin_value = y_interp\n",
    "        # logger.info(\"perlin_value\", shape=perlin_value.shape)\n",
    "        return perlin_value\n",
    "\n",
    "    def separate_call(self, point) -> float:\n",
    "        cell_loc = (point / self.unit).astype(int)\n",
    "        cell_loc[cell_loc == self.resolution] = self.resolution - 1\n",
    "\n",
    "        g00 = self.gradients[cell_loc[0], cell_loc[1]]\n",
    "        g01 = self.gradients[cell_loc[0], cell_loc[1] + 1]\n",
    "        g10 = self.gradients[cell_loc[0] + 1, cell_loc[1]]\n",
    "        g11 = self.gradients[cell_loc[0] + 1, cell_loc[1] + 1]\n",
    "\n",
    "        p00 = self.lattice[cell_loc[0], cell_loc[1]]\n",
    "        p01 = self.lattice[cell_loc[0], cell_loc[1] + 1]\n",
    "        p10 = self.lattice[cell_loc[0] + 1, cell_loc[1]]\n",
    "        p11 = self.lattice[cell_loc[0] + 1, cell_loc[1] + 1]\n",
    "\n",
    "        dot00 = np.dot(g00, point - p00)\n",
    "        dot01 = np.dot(g01, point - p01)\n",
    "        dot10 = np.dot(g10, point - p10)\n",
    "        dot11 = np.dot(g11, point - p11)\n",
    "\n",
    "        weights = point - p00\n",
    "\n",
    "        x_interp0 = interpolate(dot00, dot10, weights[0])\n",
    "        x_interp1 = interpolate(dot01, dot11, weights[0])\n",
    "\n",
    "        y_interp = interpolate(x_interp0, x_interp1, weights[1])\n",
    "\n",
    "        return y_interp"
   ]
  },
  {
   "cell_type": "code",
   "execution_count": 21,
   "metadata": {},
   "outputs": [
    {
     "name": "stdout",
     "output_type": "stream",
     "text": [
      "\u001b[2m2024-06-07 20:54:27\u001b[0m [\u001b[32m\u001b[1minfo     \u001b[0m] \u001b[1mgradients                     \u001b[0m \u001b[36mnorms\u001b[0m=\u001b[35marray([[1., 1.],\n",
      "       [1., 1.]])\u001b[0m \u001b[36mshape\u001b[0m=\u001b[35m(2, 2, 2)\u001b[0m\n"
     ]
    },
    {
     "data": {
      "text/plain": [
       "<matplotlib.image.AxesImage at 0x11d021150>"
      ]
     },
     "execution_count": 21,
     "metadata": {},
     "output_type": "execute_result"
    },
    {
     "data": {
      "image/png": "[encoded data removed]",
      "text/plain": [
       "<Figure size 640x480 with 1 Axes>"
      ]
     },
     "metadata": {},
     "output_type": "display_data"
    }
   ],
   "source": [
    "import matplotlib.pyplot as plt\n",
    "\n",
    "\n",
    "test_res = 1\n",
    "test_size = 1\n",
    "sample_res = 50\n",
    "perlin = Perlin2D(size=test_size, resolution=test_res, seed=3)\n",
    "\n",
    "cx, cy = np.meshgrid(\n",
    "    np.linspace(0, test_size, sample_res), np.linspace(0, test_size, sample_res)\n",
    ")\n",
    "\n",
    "sample_grid = np.stack([cx, cy]).transpose(1, 2, 0)\n",
    "sample_grid.shape\n",
    "perlin_grid = np.zeros((sample_res, sample_res))\n",
    "for i in range(sample_res):\n",
    "    for j in range(sample_res):\n",
    "        perlin_grid[i, j] = perlin(sample_grid[i, j])\n",
    "\n",
    "\n",
    "plt.imshow(perlin_grid, origin=\"lower\", cmap=\"seismic\", vmin=-1, vmax=1)"
   ]
  },
  {
   "cell_type": "markdown",
   "metadata": {},
   "source": [
    "## Transpiled from c wiki page perlin\n",
    "\n",
    "from https://en.wikipedia.org/wiki/Perlin_noise"
   ]
  },
  {
   "cell_type": "code",
   "execution_count": 22,
   "metadata": {},
   "outputs": [],
   "source": [
    "import math\n",
    "\n",
    "\n",
    "def interpolate(a0, a1, w):\n",
    "    \"\"\"Function to linearly interpolate between a0 and a1\n",
    "    Weight w should be in the range [0.0, 1.0]\n",
    "    \"\"\"\n",
    "    return (a1 - a0) * ((w * (w * 6.0 - 15.0) + 10.0) * w * w * w) + a0\n",
    "\n",
    "\n",
    "class Vector2:\n",
    "    def __init__(self, x, y):\n",
    "        self.x = x\n",
    "        self.y = y\n",
    "\n",
    "\n",
    "def random_gradient(ix, iy):\n",
    "    \"\"\"Create pseudorandom direction vector\"\"\"\n",
    "    w = 8 * 32\n",
    "    s = w // 2  # rotation width\n",
    "    a = ix\n",
    "    b = iy\n",
    "    a *= 3284157443\n",
    "    b ^= a << s | a >> w - s\n",
    "    b *= 1911520717\n",
    "    a ^= b << s | b >> w - s\n",
    "    a *= 2048419325\n",
    "    random = a * (3.14159265 / (2 ^ 31 - 1))  # in [0, 2*Pi]\n",
    "    return Vector2(math.cos(random), math.sin(random))\n",
    "\n",
    "\n",
    "def dot_grid_gradient(ix, iy, x, y):\n",
    "    \"\"\"Computes the dot product of the distance and gradient vectors.\"\"\"\n",
    "    gradient = random_gradient(ix, iy)\n",
    "\n",
    "    # Compute the distance vector\n",
    "    dx = x - float(ix)\n",
    "    dy = y - float(iy)\n",
    "\n",
    "    # Compute the dot-product\n",
    "    return dx * gradient.x + dy * gradient.y\n",
    "\n",
    "\n",
    "def perlin_wiki(x, y):\n",
    "    \"\"\"Compute Perlin noise at coordinates x, y\"\"\"\n",
    "    # Determine grid cell coordinates\n",
    "    x0 = int(math.floor(x))\n",
    "    x1 = x0 + 1\n",
    "    y0 = int(math.floor(y))\n",
    "    y1 = y0 + 1\n",
    "\n",
    "    # Determine interpolation weights\n",
    "    sx = x - float(x0)\n",
    "    sy = y - float(y0)\n",
    "\n",
    "    # Interpolate between grid point gradients\n",
    "    n0 = dot_grid_gradient(x0, y0, x, y)\n",
    "    n1 = dot_grid_gradient(x1, y0, x, y)\n",
    "    ix0 = interpolate(n0, n1, sx)\n",
    "\n",
    "    n0 = dot_grid_gradient(x0, y1, x, y)\n",
    "    n1 = dot_grid_gradient(x1, y1, x, y)\n",
    "    ix1 = interpolate(n0, n1, sx)\n",
    "\n",
    "    value = interpolate(ix0, ix1, sy)\n",
    "    return value  # Will return in range -1 to 1. To make it in range 0 to 1, multiply by 0.5 and add 0.5"
   ]
  },
  {
   "cell_type": "code",
   "execution_count": 23,
   "metadata": {},
   "outputs": [
    {
     "data": {
      "text/plain": [
       "<matplotlib.image.AxesImage at 0x11d077a90>"
      ]
     },
     "execution_count": 23,
     "metadata": {},
     "output_type": "execute_result"
    },
    {
     "data": {
      "image/png": "[encoded data removed]",
      "text/plain": [
       "<Figure size 640x480 with 1 Axes>"
      ]
     },
     "metadata": {},
     "output_type": "display_data"
    }
   ],
   "source": [
    "sample_res = 50\n",
    "cx, cy = np.meshgrid(np.linspace(0, 1, sample_res), np.linspace(0, 1, sample_res))\n",
    "\n",
    "sample_grid = np.stack([cx, cy]).transpose(1, 2, 0)\n",
    "sample_grid.shape\n",
    "\n",
    "perlin_grid = np.zeros((sample_res, sample_res))\n",
    "for i in range(sample_res):\n",
    "    for j in range(sample_res):\n",
    "        perlin_grid[i, j] = perlin_wiki(*sample_grid[i, j])\n",
    "\n",
    "import matplotlib.pyplot as plt\n",
    "\n",
    "plt.imshow(perlin_grid, origin=\"lower\", cmap=\"seismic\", vmin=-1, vmax=1)"
   ]
  },
  {
   "cell_type": "markdown",
   "metadata": {},
   "source": [
    "## perlin_numpy package example\n",
    "\n",
    "from blog https://pvigier.github.io/2018/06/13/perlin-noise-numpy.html\n",
    "\n",
    "by the author of https://github.com/pvigier/perlin-numpy/tree/master?tab=readme-ov-file"
   ]
  },
  {
   "cell_type": "code",
   "execution_count": 24,
   "metadata": {},
   "outputs": [],
   "source": [
    "def generate_perlin_noise_2d(shape, res):\n",
    "    def f(t):\n",
    "        return 6 * t**5 - 15 * t**4 + 10 * t**3\n",
    "\n",
    "    delta = (res[0] / shape[0], res[1] / shape[1])\n",
    "    d = (shape[0] // res[0], shape[1] // res[1])\n",
    "    grid = np.mgrid[0 : res[0] : delta[0], 0 : res[1] : delta[1]].transpose(1, 2, 0) % 1\n",
    "    logger.info(\"grid\", shape=grid.shape, delta=delta, d=d, first_3=grid[:3, :3])\n",
    "\n",
    "    # Gradients\n",
    "    angles = 2 * np.pi * np.random.rand(res[0] + 1, res[1] + 1)\n",
    "    gradients = np.dstack((np.cos(angles), np.sin(angles)))\n",
    "    logger.info(\"gradients\", shape=gradients.shape)\n",
    "    g00 = gradients[0:-1, 0:-1].repeat(d[0], 0).repeat(d[1], 1)\n",
    "    logger.info(\n",
    "        \"g00\",\n",
    "        shape=g00.shape,\n",
    "        grad_slice=gradients[0:-1, 0:-1].shape,\n",
    "        first_reapeat=gradients[0:-1, 0:-1].repeat(d[0], 0).shape,\n",
    "        second_repeat=gradients[0:-1, 0:-1].repeat(d[0], 0).repeat(d[1], 1).shape,\n",
    "    )\n",
    "    g10 = gradients[1:, 0:-1].repeat(d[0], 0).repeat(d[1], 1)\n",
    "    g01 = gradients[0:-1, 1:].repeat(d[0], 0).repeat(d[1], 1)\n",
    "    g11 = gradients[1:, 1:].repeat(d[0], 0).repeat(d[1], 1)\n",
    "    # Ramps\n",
    "    n00 = np.sum(grid * g00, 2)\n",
    "    n10 = np.sum(np.dstack((grid[:, :, 0] - 1, grid[:, :, 1])) * g10, 2)\n",
    "    n01 = np.sum(np.dstack((grid[:, :, 0], grid[:, :, 1] - 1)) * g01, 2)\n",
    "    n11 = np.sum(np.dstack((grid[:, :, 0] - 1, grid[:, :, 1] - 1)) * g11, 2)\n",
    "    # Interpolation\n",
    "    t = f(grid)\n",
    "    n0 = n00 * (1 - t[:, :, 0]) + t[:, :, 0] * n10\n",
    "    n1 = n01 * (1 - t[:, :, 0]) + t[:, :, 0] * n11\n",
    "    return np.sqrt(2) * ((1 - t[:, :, 1]) * n0 + t[:, :, 1] * n1)"
   ]
  },
  {
   "cell_type": "code",
   "execution_count": 25,
   "metadata": {},
   "outputs": [
    {
     "name": "stdout",
     "output_type": "stream",
     "text": [
      "\u001b[2m2024-06-07 20:54:27\u001b[0m [\u001b[32m\u001b[1minfo     \u001b[0m] \u001b[1mgrid                          \u001b[0m \u001b[36md\u001b[0m=\u001b[35m(100, 100)\u001b[0m \u001b[36mdelta\u001b[0m=\u001b[35m(0.01, 0.01)\u001b[0m \u001b[36mfirst_3\u001b[0m=\u001b[35marray([[[0.  , 0.  ],\n",
      "        [0.  , 0.01],\n",
      "        [0.  , 0.02]],\n",
      "\n",
      "       [[0.01, 0.  ],\n",
      "        [0.01, 0.01],\n",
      "        [0.01, 0.02]],\n",
      "\n",
      "       [[0.02, 0.  ],\n",
      "        [0.02, 0.01],\n",
      "        [0.02, 0.02]]])\u001b[0m \u001b[36mshape\u001b[0m=\u001b[35m(100, 100, 2)\u001b[0m\n",
      "\u001b[2m2024-06-07 20:54:27\u001b[0m [\u001b[32m\u001b[1minfo     \u001b[0m] \u001b[1mgradients                     \u001b[0m \u001b[36mshape\u001b[0m=\u001b[35m(2, 2, 2)\u001b[0m\n"
     ]
    },
    {
     "name": "stdout",
     "output_type": "stream",
     "text": [
      "\u001b[2m2024-06-07 20:54:27\u001b[0m [\u001b[32m\u001b[1minfo     \u001b[0m] \u001b[1mg00                           \u001b[0m \u001b[36mfirst_reapeat\u001b[0m=\u001b[35m(100, 1, 2)\u001b[0m \u001b[36mgrad_slice\u001b[0m=\u001b[35m(1, 1, 2)\u001b[0m \u001b[36msecond_repeat\u001b[0m=\u001b[35m(100, 100, 2)\u001b[0m \u001b[36mshape\u001b[0m=\u001b[35m(100, 100, 2)\u001b[0m\n"
     ]
    },
    {
     "data": {
      "text/plain": [
       "<matplotlib.colorbar.Colorbar at 0x11d196dd0>"
      ]
     },
     "execution_count": 25,
     "metadata": {},
     "output_type": "execute_result"
    },
    {
     "data": {
      "image/png": "[encoded data removed]",
      "text/plain": [
       "<Figure size 640x480 with 2 Axes>"
      ]
     },
     "metadata": {},
     "output_type": "display_data"
    }
   ],
   "source": [
    "np.random.seed(0)\n",
    "noise = generate_perlin_noise_2d(shape=(100, 100), res=(1, 1))\n",
    "plt.imshow(noise, origin=\"lower\", cmap=\"seismic\", vmin=-1, vmax=1)\n",
    "plt.colorbar()"
   ]
  },
  {
   "cell_type": "code",
   "execution_count": null,
   "metadata": {},
   "outputs": [],
   "source": []
  },
  {
   "cell_type": "markdown",
   "metadata": {},
   "source": [
    "## Circle rays"
   ]
  },
  {
   "cell_type": "code",
   "execution_count": null,
   "metadata": {},
   "outputs": [
    {
     "data": {
      "image/png": "[encoded data removed]",
      "text/plain": [
       "<IPython.core.display.Image object>"
      ]
     },
     "metadata": {},
     "output_type": "display_data"
    }
   ],
   "source": [
    "# define a flower by a center, normal vector, height, radius, petals, petal width.\n",
    "\n",
    "\n",
    "@np_args\n",
    "def get_circle_rays(\n",
    "    center: np.ndarray, radius: float, normal: np.ndarray, n_rays\n",
    ") -> EdgeCollection:\n",
    "    points = []\n",
    "    for theta in np.linspace(0, 2 * np.pi, n_rays):\n",
    "\n",
    "        axis0 = np.cross(center, normal)\n",
    "        unit_axis0 = axis0 / np.linalg.norm(axis0)\n",
    "\n",
    "        axis1 = np.cross(unit_axis0, normal)\n",
    "        unit_axis1 = axis1 / np.linalg.norm(axis1)\n",
    "        point = (\n",
    "            center\n",
    "            + radius * np.cos(theta) * unit_axis0\n",
    "            + radius * np.sin(theta) * unit_axis1\n",
    "        )\n",
    "        points.append(point)\n",
    "    rays = EdgeCollection(np.array([[center, p] for p in points]))\n",
    "    return rays\n",
    "\n",
    "\n",
    "circle_rays = get_circle_rays(\n",
    "    center=np.array([0.5, 0.5, 0]), radius=0.2, normal=np.array([0, 0, 1]), n_rays=10\n",
    ")\n",
    "\n",
    "\n",
    "page = draw.quick_draw_edges(\n",
    "    circle_rays.edges,\n",
    "    v=False,\n",
    "    image_size=100,\n",
    "    edge_style=style.simple_edge(style.wildflower_golds[1]),\n",
    "    unit_scale=True,\n",
    ")\n",
    "Image(page.image(kind=\"rgba\", ppi=60).png())"
   ]
  },
  {
   "cell_type": "markdown",
   "metadata": {},
   "source": [
    "# field of stems"
   ]
  },
  {
   "cell_type": "code",
   "execution_count": 63,
   "metadata": {},
   "outputs": [
    {
     "name": "stdout",
     "output_type": "stream",
     "text": [
      "\u001b[2m2024-06-07 21:13:59\u001b[0m [\u001b[32m\u001b[1minfo     \u001b[0m] \u001b[1mp_vals                        \u001b[0m \u001b[36mmax\u001b[0m=\u001b[35m1.0\u001b[0m \u001b[36mmean\u001b[0m=\u001b[35m0.411311578695136\u001b[0m \u001b[36mmin\u001b[0m=\u001b[35m0.0\u001b[0m \u001b[36mstd\u001b[0m=\u001b[35m0.2907514046020364\u001b[0m\n"
     ]
    },
    {
     "data": {
      "text/plain": [
       "(57, 57)"
      ]
     },
     "execution_count": 63,
     "metadata": {},
     "output_type": "execute_result"
    }
   ],
   "source": [
    "perlin = Perlin2D(size=1, resolution=1, seed=3)\n",
    "points = np.random.rand(100, 2)\n",
    "# points = np.array(\n",
    "#     [[x, y] for x, y in itertools.product(np.linspace(0, 1, 10), np.linspace(0, 1, 10))] # grid\n",
    "# )\n",
    "p_vals = np.array([perlin(p) for p in points])\n",
    "p_vals = p_vals - p_vals.min()\n",
    "p_vals = p_vals / p_vals.max()\n",
    "logger.info(\n",
    "    \"p_vals\", min=min(p_vals), max=max(p_vals), mean=np.mean(p_vals), std=np.std(p_vals)\n",
    ")\n",
    "used_points = np.array([p for p, v in zip(points, p_vals) if v > np.mean(p_vals) - 0.1])\n",
    "used_p_vals = [v for v in p_vals if v > p_vals.mean() - 0.1]\n",
    "len(used_points), len(used_p_vals)"
   ]
  },
  {
   "cell_type": "code",
   "execution_count": 74,
   "metadata": {},
   "outputs": [
    {
     "data": {
      "image/png": "[encoded data removed]",
      "text/plain": [
       "<IPython.core.display.Image object>"
      ]
     },
     "execution_count": 74,
     "metadata": {},
     "output_type": "execute_result"
    }
   ],
   "source": [
    "stems = EdgeCollection(\n",
    "    np.array([[[*p, 0], [*p, np.abs(v)]] for p, v in zip(used_points, used_p_vals)])\n",
    ")\n",
    "stems = (\n",
    "    stems.rotate_unison(\n",
    "        p0=[[0.5, 0.5, 0]], normal=[0, 0, 1], theta=np.pi / 16\n",
    "    ).rotate_unison(  # rotate\n",
    "        p0=[[0.5, 0.5, 0]], normal=[-1, 0, 0], theta=np.pi / 16\n",
    "    )  # tilt\n",
    "    # .rotate_unison(p0=[[0.5,0.5,0]], normal=[1,0,0],theta=np.pi)\n",
    ")\n",
    "flowers = EdgeCollection.collect(\n",
    "    [\n",
    "        get_circle_rays(\n",
    "            center=e[1],\n",
    "            radius=0.02,\n",
    "            normal=(e[1] - e[0]) / np.linalg.norm((e[1] - e[0])),\n",
    "            n_rays=10,\n",
    "        )\n",
    "        for e in stems.edges\n",
    "    ]\n",
    ")\n",
    "\n",
    "page = draw.quick_draw_edges(\n",
    "    stems.edges,\n",
    "    v=False,\n",
    "    image_size=100,\n",
    "    edge_style=style.simple_edge(style.wildflower_greens[1]),\n",
    "    unit_scale=True,\n",
    ")\n",
    "page = draw.quick_draw_edges(\n",
    "    flowers.edges,\n",
    "    v=False,\n",
    "    image_size=100,\n",
    "    edge_style=style.simple_edge(style.wildflower_purples[1]),\n",
    "    unit_scale=True,\n",
    "    page=page,\n",
    ")\n",
    "\n",
    "Image(page.image(kind=\"rgba\", ppi=120).png())"
   ]
  },
  {
   "cell_type": "code",
   "execution_count": 98,
   "metadata": {},
   "outputs": [
    {
     "data": {
      "image/png": "[encoded data removed]",
      "text/plain": [
       "<IPython.core.display.Image object>"
      ]
     },
     "execution_count": 98,
     "metadata": {},
     "output_type": "execute_result"
    }
   ],
   "source": [
    "# hack to setup a blank page\n",
    "page = draw.quick_draw_edges(\n",
    "    EdgeCollection(np.array([[[0, 0, 0], [0, 0, 0.5]]])).edges,\n",
    "    v=False,\n",
    "    image_size=100,\n",
    "    edge_style=style.simple_edge(style.wildflower_golds[1]),\n",
    "    unit_scale=True,\n",
    ")\n",
    "for i, (stem_style, flower_style) in enumerate(\n",
    "    zip(\n",
    "        style.wildflower_greens[0:2] * 3,\n",
    "        style.wildflower_golds + style.wildflower_purples + style.wildflower_reds,\n",
    "    )\n",
    "):\n",
    "    perlin = Perlin2D(size=1, resolution=1, seed=i)\n",
    "    points = np.random.rand(100, 2)\n",
    "    p_vals = np.array([perlin(p) for p in points])\n",
    "    p_vals = p_vals - p_vals.min()\n",
    "    p_vals = p_vals / p_vals.max()\n",
    "    used_points = np.array([p for p, v in zip(points, p_vals) if v > 0.5])\n",
    "    used_p_vals = [v for v in p_vals if v > 0.5]\n",
    "\n",
    "    stems = EdgeCollection(\n",
    "        np.array([[[*p, 0], [*p, np.abs(v)]] for p, v in zip(used_points, used_p_vals)])\n",
    "    )\n",
    "    stems = (\n",
    "        stems.rotate_unison(\n",
    "            p0=[[0.5, 0.5, 0]], normal=[0, 0, 1], theta=np.pi / 16\n",
    "        )  # rotate\n",
    "        .rotate_unison(p0=[[0.5, 0.5, 0]], normal=[-1, 0, 0], theta=np.pi / 16)  # tilt\n",
    "        .move(np.array([[0, 0.1, 0]]))\n",
    "    )\n",
    "    flowers = EdgeCollection.collect(\n",
    "        [\n",
    "            get_circle_rays(\n",
    "                center=e[1],\n",
    "                radius=0.02 * np.random.rand() + 0.005,\n",
    "                normal=(e[1] - e[0]) / np.linalg.norm((e[1] - e[0]))\n",
    "                + np.random.randn(3) * 0.2,\n",
    "                n_rays=np.random.randint(3, 10),\n",
    "            )\n",
    "            for e in stems.edges\n",
    "        ]\n",
    "    )\n",
    "\n",
    "    page = draw.quick_draw_edges(\n",
    "        stems.edges,\n",
    "        v=False,\n",
    "        image_size=100,\n",
    "        edge_style=style.simple_edge(stem_style),\n",
    "        unit_scale=True,\n",
    "        page=page,\n",
    "    )\n",
    "    page = draw.quick_draw_edges(\n",
    "        flowers.edges,\n",
    "        v=False,\n",
    "        image_size=100,\n",
    "        edge_style=style.simple_edge(flower_style),\n",
    "        unit_scale=True,\n",
    "        page=page,\n",
    "    )\n",
    "\n",
    "Image(page.image(kind=\"rgba\", ppi=60).png())"
   ]
  },
  {
   "cell_type": "markdown",
   "metadata": {},
   "source": [
    "## Unit vectors"
   ]
  },
  {
   "cell_type": "code",
   "execution_count": null,
   "metadata": {},
   "outputs": [
    {
     "data": {
      "image/png": "[encoded data removed]",
      "text/plain": [
       "<IPython.core.display.Image object>"
      ]
     },
     "execution_count": 98,
     "metadata": {},
     "output_type": "execute_result"
    }
   ],
   "source": [
    "page = draw.quick_draw_edges(\n",
    "    EdgeCollection(np.array([[[0, 0, 0], [0.5, 0, 0]]])).edges,\n",
    "    v=True,\n",
    "    image_size=100,\n",
    "    edge_style=style.simple_edge(style.wildflower_golds[1]),\n",
    "    unit_scale=True,\n",
    ")\n",
    "Image(page.image(kind=\"rgba\", ppi=60).png())"
   ]
  },
  {
   "cell_type": "code",
   "execution_count": null,
   "metadata": {},
   "outputs": [
    {
     "data": {
      "image/png": "[encoded data removed]",
      "text/plain": [
       "<IPython.core.display.Image object>"
      ]
     },
     "execution_count": 99,
     "metadata": {},
     "output_type": "execute_result"
    }
   ],
   "source": [
    "page = draw.quick_draw_edges(\n",
    "    EdgeCollection(np.array([[[0, 0, 0], [0, 0.5, 0]]])).edges,\n",
    "    v=True,\n",
    "    image_size=100,\n",
    "    edge_style=style.simple_edge(style.wildflower_golds[1]),\n",
    "    unit_scale=True,\n",
    ")\n",
    "Image(page.image(kind=\"rgba\", ppi=60).png())"
   ]
  },
  {
   "cell_type": "code",
   "execution_count": null,
   "metadata": {},
   "outputs": [
    {
     "data": {
      "image/png": "[encoded data removed]",
      "text/plain": [
       "<IPython.core.display.Image object>"
      ]
     },
     "execution_count": 100,
     "metadata": {},
     "output_type": "execute_result"
    }
   ],
   "source": [
    "page = draw.quick_draw_edges(\n",
    "    EdgeCollection(np.array([[[0, 0, 0], [0, 0, 0.5]]])).edges,\n",
    "    v=False,\n",
    "    image_size=100,\n",
    "    edge_style=style.simple_edge(style.wildflower_golds[1]),\n",
    "    unit_scale=True,\n",
    ")\n",
    "Image(page.image(kind=\"rgba\", ppi=60).png())"
   ]
  }
 ],
 "metadata": {
  "kernelspec": {
   "display_name": ".venv",
   "language": "python",
   "name": "python3"
  },
  "language_info": {
   "codemirror_mode": {
    "name": "ipython",
    "version": 3
   },
   "file_extension": ".py",
   "mimetype": "text/x-python",
   "name": "python",
   "nbconvert_exporter": "python",
   "pygments_lexer": "ipython3",
   "version": "3.11.4"
  }
 },
 "nbformat": 4,
 "nbformat_minor": 2
}
